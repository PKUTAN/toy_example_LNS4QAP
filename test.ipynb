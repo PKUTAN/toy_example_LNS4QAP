{
 "cells": [
  {
   "cell_type": "code",
   "execution_count": 5,
   "metadata": {},
   "outputs": [],
   "source": [
    "import numpy as np"
   ]
  },
  {
   "cell_type": "code",
   "execution_count": 368,
   "metadata": {},
   "outputs": [],
   "source": [
    "obj = np.load('./result_gurobi/tai64cLNS_obj.npy')\n",
    "obj = (obj-1855928)/1855928\n"
   ]
  },
  {
   "cell_type": "code",
   "execution_count": 369,
   "metadata": {},
   "outputs": [
    {
     "data": {
      "text/plain": [
       "array([6.75975577e-01, 6.75975577e-01, 6.63698161e-01, 6.07753102e-01,\n",
       "       5.86749055e-01, 3.23420952e-01, 3.17243988e-01, 2.35748370e-01,\n",
       "       2.15612890e-01, 2.12329358e-01, 1.90903957e-01, 1.11218754e-01,\n",
       "       7.39759301e-02, 7.07452013e-02, 2.11279748e-02, 8.67813838e-03,\n",
       "       8.67813838e-03, 3.25551422e-03, 3.25551422e-03, 3.18115789e-03,\n",
       "       3.18115789e-03, 3.18115789e-03, 3.18115789e-03, 3.18115789e-03,\n",
       "       3.18115789e-03, 3.18115789e-03, 3.18115789e-03, 3.18115789e-03,\n",
       "       3.18115789e-03, 3.18115789e-03, 3.18115789e-03, 3.18115789e-03,\n",
       "       3.18115789e-03, 3.18115789e-03, 3.18115789e-03, 3.18115789e-03,\n",
       "       3.18115789e-03, 3.18115789e-03, 3.18115789e-03, 3.18115789e-03,\n",
       "       3.18115789e-03, 3.18115789e-03, 3.18115789e-03, 3.18115789e-03,\n",
       "       3.18115789e-03, 3.18115789e-03, 3.18115789e-03, 3.18115789e-03,\n",
       "       3.18115789e-03, 3.18115789e-03, 3.18115789e-03, 3.18115789e-03,\n",
       "       3.18115789e-03, 3.18115789e-03, 3.18115789e-03, 3.18115789e-03,\n",
       "       3.18115789e-03, 3.18115789e-03, 3.18115789e-03, 3.18115789e-03,\n",
       "       3.18115789e-03, 3.18115789e-03, 3.18115789e-03, 3.18115789e-03,\n",
       "       3.18115789e-03, 3.18115789e-03, 3.18115789e-03, 3.18115789e-03,\n",
       "       2.52164955e-04, 2.52164955e-04, 2.52164955e-04, 2.52164955e-04,\n",
       "       2.52164955e-04, 2.52164955e-04, 2.52164955e-04, 2.52164955e-04,\n",
       "       2.52164955e-04, 2.52164955e-04, 2.52164955e-04, 2.52164955e-04,\n",
       "       2.52164955e-04, 2.52164955e-04, 2.52164955e-04, 2.52164955e-04,\n",
       "       2.52164955e-04, 2.52164955e-04, 2.52164955e-04, 2.52164955e-04,\n",
       "       2.52164955e-04, 2.52164955e-04, 2.52164955e-04, 2.52164955e-04,\n",
       "       2.52164955e-04, 2.52164955e-04, 2.52164955e-04, 2.52164955e-04,\n",
       "       2.52164955e-04, 2.52164955e-04, 2.52164955e-04, 2.52164955e-04,\n",
       "       2.52164955e-04, 2.52164955e-04, 2.52164955e-04, 2.52164955e-04,\n",
       "       2.52164955e-04, 2.52164955e-04, 2.52164955e-04, 2.52164955e-04,\n",
       "       2.52164955e-04, 2.52164955e-04, 2.52164955e-04, 2.52164955e-04,\n",
       "       2.52164955e-04, 2.52164955e-04, 2.52164955e-04, 2.52164955e-04,\n",
       "       2.52164955e-04])"
      ]
     },
     "execution_count": 369,
     "metadata": {},
     "output_type": "execute_result"
    }
   ],
   "source": [
    "obj"
   ]
  },
  {
   "cell_type": "code",
   "execution_count": 370,
   "metadata": {},
   "outputs": [
    {
     "data": {
      "text/plain": [
       "array([2.81715393e-03, 6.36688519e+00, 6.77692199e+00, 6.81237912e+00,\n",
       "       6.88566113e+00, 7.08721519e+00, 7.58491516e+00, 7.58636999e+00,\n",
       "       1.06486962e+01, 1.08753152e+01, 1.11097090e+01, 1.28744521e+01,\n",
       "       1.28759172e+01, 1.28773332e+01, 1.43314750e+01, 1.83827622e+01,\n",
       "       2.00124822e+01, 4.00364187e+01, 4.03976555e+01, 4.08978801e+01,\n",
       "       4.12411380e+01, 4.14366972e+01, 4.64692838e+01, 4.66177118e+01,\n",
       "       4.67782340e+01, 5.31617799e+01, 5.33313055e+01, 5.34917514e+01,\n",
       "       5.36500826e+01, 5.40192573e+01, 5.41811159e+01, 5.45183649e+01,\n",
       "       5.46877027e+01, 5.48464532e+01, 5.49993944e+01, 5.51822367e+01,\n",
       "       5.53401177e+01, 5.55050609e+01, 5.57095366e+01, 5.66061809e+01,\n",
       "       5.67574275e+01, 5.69285994e+01, 5.71037688e+01, 5.72626851e+01,\n",
       "       5.74599237e+01, 5.76179893e+01, 5.78500092e+01, 5.79998691e+01,\n",
       "       5.81952548e+01, 5.84467905e+01, 5.86669493e+01, 5.88566444e+01,\n",
       "       5.90289369e+01, 5.92046301e+01, 5.93457658e+01, 5.95352504e+01,\n",
       "       5.97263334e+01, 5.98814628e+01, 6.00303912e+01, 6.01927483e+01,\n",
       "       6.03554182e+01, 6.05884521e+01, 6.07353609e+01, 6.08945990e+01,\n",
       "       6.16754351e+01, 6.19026406e+01, 6.21389408e+01, 6.22922344e+01,\n",
       "       6.25632310e+01, 6.27391462e+01, 6.28979702e+01, 6.30764282e+01,\n",
       "       6.32233794e+01, 6.33756127e+01, 6.39522636e+01, 6.40942528e+01,\n",
       "       6.42667675e+01, 6.44250662e+01, 6.45907524e+01, 6.47722921e+01,\n",
       "       6.54944489e+01, 6.88805470e+01, 6.90595050e+01, 6.92426467e+01,\n",
       "       6.94326508e+01, 6.96453733e+01, 6.98289843e+01, 6.99917107e+01,\n",
       "       7.01686506e+01, 7.03340354e+01, 7.04809117e+01, 7.06490946e+01,\n",
       "       7.08736393e+01, 7.11456652e+01, 7.12943420e+01, 7.14731441e+01,\n",
       "       7.16281271e+01, 7.18021410e+01, 7.20952516e+01, 7.22555816e+01,\n",
       "       7.24098051e+01, 7.25989625e+01, 7.27506485e+01, 7.29507804e+01,\n",
       "       7.31505473e+01, 7.33168368e+01, 7.35015361e+01, 7.36617961e+01,\n",
       "       7.40111163e+01, 7.41768556e+01, 7.43515258e+01, 7.45007935e+01,\n",
       "       7.46549807e+01, 7.49924681e+01, 7.51931570e+01, 7.53758528e+01,\n",
       "       7.56687796e+01])"
      ]
     },
     "execution_count": 370,
     "metadata": {},
     "output_type": "execute_result"
    }
   ],
   "source": [
    "time = np.load('./result_gurobi/tai64cLNS_time.npy')\n",
    "time"
   ]
  },
  {
   "cell_type": "code",
   "execution_count": 371,
   "metadata": {},
   "outputs": [],
   "source": [
    "obj_grb = np.load('./result_gurobi/tai64c_obj.npy')\n",
    "time_grb = np.load('./result_gurobi/tai64c_time.npy')"
   ]
  },
  {
   "cell_type": "code",
   "execution_count": 357,
   "metadata": {},
   "outputs": [],
   "source": [
    "obj_grb = obj_grb.tolist()\n",
    "temp = obj_grb[-1]\n",
    "obj_grb.append(temp)\n",
    "obj_grb = np.asarray(obj_grb)"
   ]
  },
  {
   "cell_type": "code",
   "execution_count": 239,
   "metadata": {},
   "outputs": [],
   "source": [
    "obj_grb = np.asarray([107070.00000,\n",
    "104624.00000   ,\n",
    "100852.00000 ,\n",
    "100852.000  ,\n",
    "97680.000000 ,\n",
    "97680.0000,\n",
    "97680.0000,\n",
    "97680.0000,\n",
    "97680])\n",
    "time_grb= np.asarray([0,380,398,400,508,516,521,530,2500])"
   ]
  },
  {
   "cell_type": "code",
   "execution_count": 358,
   "metadata": {},
   "outputs": [],
   "source": [
    "time_grb = time_grb.tolist()\n",
    "time_grb.append(510)\n",
    "time_grb = np.asarray(time_grb)"
   ]
  },
  {
   "cell_type": "code",
   "execution_count": 374,
   "metadata": {},
   "outputs": [],
   "source": [
    "time_grb[-1] = 75"
   ]
  },
  {
   "cell_type": "code",
   "execution_count": 373,
   "metadata": {},
   "outputs": [
    {
     "data": {
      "text/plain": [
       "array([2.77996063e-03, 4.54615402e+00, 4.96021700e+00, 4.99191809e+00,\n",
       "       5.06236291e+00, 5.25712109e+00, 5.74563909e+00, 5.74732590e+00,\n",
       "       8.82806396e+00, 9.04194593e+00, 9.27310395e+00, 1.08944969e+01,\n",
       "       1.08960710e+01, 1.08973610e+01, 1.22346361e+01, 1.60666599e+01,\n",
       "       2.06965179e+01, 3.36115451e+01, 3.63347631e+01, 5.00015539e+02])"
      ]
     },
     "execution_count": 373,
     "metadata": {},
     "output_type": "execute_result"
    }
   ],
   "source": [
    "time_grb"
   ]
  },
  {
   "cell_type": "code",
   "execution_count": 375,
   "metadata": {},
   "outputs": [],
   "source": [
    "obj_grb[-1] = 0.002"
   ]
  },
  {
   "cell_type": "code",
   "execution_count": 372,
   "metadata": {},
   "outputs": [
    {
     "data": {
      "text/plain": [
       "array([0.67597558, 0.67597558, 0.66369816, 0.6077531 , 0.58674905,\n",
       "       0.32342095, 0.31724399, 0.23574837, 0.21561289, 0.21232936,\n",
       "       0.19090396, 0.11121875, 0.07397593, 0.0707452 , 0.02112797,\n",
       "       0.00867814, 0.00867814, 0.00390317, 0.00238156, 0.00238156])"
      ]
     },
     "execution_count": 372,
     "metadata": {},
     "output_type": "execute_result"
    }
   ],
   "source": [
    "obj_grb = (obj_grb-1855928)/1855928\n",
    "obj_grb"
   ]
  },
  {
   "cell_type": "code",
   "execution_count": 89,
   "metadata": {},
   "outputs": [],
   "source": [
    "import matplotlib.pyplot as plt"
   ]
  },
  {
   "cell_type": "code",
   "execution_count": 376,
   "metadata": {},
   "outputs": [
    {
     "data": {
      "image/png": "[encoded data removed]",
      "text/plain": [
       "<Figure size 640x480 with 1 Axes>"
      ]
     },
     "metadata": {},
     "output_type": "display_data"
    }
   ],
   "source": [
    "fig, ax = plt.subplots()\n",
    "ax.plot(time,obj)\n",
    "ax.plot(time_grb,obj_grb)\n",
    "plt.savefig('./result_gurobi/tai64c.png')\n",
    "plt.show()\n"
   ]
  },
  {
   "cell_type": "code",
   "execution_count": 10,
   "metadata": {},
   "outputs": [
    {
     "name": "stderr",
     "output_type": "stream",
     "text": [
      "/home/tzt/anaconda3/envs/ThinkMatch/lib/python3.7/site-packages/tqdm/auto.py:22: TqdmWarning: IProgress not found. Please update jupyter and ipywidgets. See https://ipywidgets.readthedocs.io/en/stable/user_install.html\n",
      "  from .autonotebook import tqdm as notebook_tqdm\n"
     ]
    }
   ],
   "source": [
    "import torch"
   ]
  },
  {
   "cell_type": "code",
   "execution_count": 378,
   "metadata": {},
   "outputs": [],
   "source": [
    "matrix = torch.tensor([[1,2,3],[2,3,4],[3,4,5]])"
   ]
  },
  {
   "cell_type": "code",
   "execution_count": 379,
   "metadata": {},
   "outputs": [],
   "source": [
    "index = [1,2]"
   ]
  },
  {
   "cell_type": "code",
   "execution_count": 388,
   "metadata": {},
   "outputs": [
    {
     "data": {
      "text/plain": [
       "tensor([[3, 4],\n",
       "        [4, 5]])"
      ]
     },
     "execution_count": 388,
     "metadata": {},
     "output_type": "execute_result"
    }
   ],
   "source": [
    "matrix[index][:,index]"
   ]
  },
  {
   "cell_type": "code",
   "execution_count": 1,
   "metadata": {},
   "outputs": [
    {
     "data": {
      "text/plain": [
       "[1, 2, 3, 4]"
      ]
     },
     "execution_count": 1,
     "metadata": {},
     "output_type": "execute_result"
    }
   ],
   "source": [
    "sorted([1,3,4,2])"
   ]
  },
  {
   "cell_type": "code",
   "execution_count": 2,
   "metadata": {},
   "outputs": [],
   "source": [
    "def sub2whole(sub_sol,sol,index):\n",
    "    sub_prob_size = len(sub_sol)\n",
    "    unassigned_loc = sorted([loc for idx, loc in sol if idx in index])\n",
    "    unassigned_flow = sorted(index)\n",
    "\n",
    "    for i in range(sub_prob_size):\n",
    "        sol[unassigned_flow[i]][1] = unassigned_loc[sub_sol[i][1]]\n",
    "    \n",
    "    return sol"
   ]
  },
  {
   "cell_type": "code",
   "execution_count": 7,
   "metadata": {},
   "outputs": [],
   "source": [
    "sub_sol = [[0,2],[1,0],[2,1],[3,3]]\n",
    "sol = [[i,i] for i in range(10)]\n",
    "index = [4,7,8,9]"
   ]
  },
  {
   "cell_type": "code",
   "execution_count": 8,
   "metadata": {},
   "outputs": [
    {
     "data": {
      "text/plain": [
       "[[0, 0],\n",
       " [1, 1],\n",
       " [2, 2],\n",
       " [3, 3],\n",
       " [4, 8],\n",
       " [5, 5],\n",
       " [6, 6],\n",
       " [7, 4],\n",
       " [8, 7],\n",
       " [9, 9]]"
      ]
     },
     "execution_count": 8,
     "metadata": {},
     "output_type": "execute_result"
    }
   ],
   "source": [
    "sub2whole(sub_sol,sol, index)"
   ]
  },
  {
   "cell_type": "code",
   "execution_count": 40,
   "metadata": {},
   "outputs": [],
   "source": [
    "N = 1000\n",
    "D = torch.randn((N,N))\n",
    "F = torch.randn((N,N))"
   ]
  },
  {
   "cell_type": "code",
   "execution_count": 41,
   "metadata": {},
   "outputs": [],
   "source": [
    "X = torch.zeros((N,N))\n",
    "for i in range(N-1):\n",
    "    X[i,i+1] = 1\n",
    "X[-1,0] = 1"
   ]
  },
  {
   "cell_type": "code",
   "execution_count": 35,
   "metadata": {},
   "outputs": [
    {
     "data": {
      "text/plain": [
       "tensor([[0., 1., 0.,  ..., 0., 0., 0.],\n",
       "        [0., 0., 1.,  ..., 0., 0., 0.],\n",
       "        [0., 0., 0.,  ..., 0., 0., 0.],\n",
       "        ...,\n",
       "        [0., 0., 0.,  ..., 0., 1., 0.],\n",
       "        [0., 0., 0.,  ..., 0., 0., 1.],\n",
       "        [1., 0., 0.,  ..., 0., 0., 0.]])"
      ]
     },
     "execution_count": 35,
     "metadata": {},
     "output_type": "execute_result"
    }
   ],
   "source": [
    "X"
   ]
  },
  {
   "cell_type": "code",
   "execution_count": 42,
   "metadata": {},
   "outputs": [
    {
     "data": {
      "text/plain": [
       "tensor(-271.7660)"
      ]
     },
     "execution_count": 42,
     "metadata": {},
     "output_type": "execute_result"
    }
   ],
   "source": [
    "torch.sum(F*(X@D@X.T))"
   ]
  },
  {
   "cell_type": "code",
   "execution_count": 43,
   "metadata": {},
   "outputs": [],
   "source": [
    "sol = [[i,i+1] for i in range(N-1)]\n",
    "sol.append([N-1,0])"
   ]
  },
  {
   "cell_type": "code",
   "execution_count": 46,
   "metadata": {},
   "outputs": [],
   "source": [
    "sum = 0\n",
    "for i,k in sol:    \n",
    "    for j,l in sol:\n",
    "        sum += F[i,j]*D[k,l]"
   ]
  },
  {
   "cell_type": "code",
   "execution_count": 45,
   "metadata": {},
   "outputs": [
    {
     "data": {
      "text/plain": [
       "tensor(-271.7611)"
      ]
     },
     "execution_count": 45,
     "metadata": {},
     "output_type": "execute_result"
    }
   ],
   "source": [
    "sum"
   ]
  },
  {
   "cell_type": "code",
   "execution_count": 47,
   "metadata": {},
   "outputs": [],
   "source": [
    "X = torch.zeros((N,N))\n",
    "for i,j in sol:\n",
    "    X[i,j]=1"
   ]
  },
  {
   "cell_type": "code",
   "execution_count": 49,
   "metadata": {},
   "outputs": [
    {
     "data": {
      "text/plain": [
       "tensor(-271.7660)"
      ]
     },
     "execution_count": 49,
     "metadata": {},
     "output_type": "execute_result"
    }
   ],
   "source": [
    "torch.sum(F*(X@D@X.T))"
   ]
  },
  {
   "cell_type": "code",
   "execution_count": 50,
   "metadata": {},
   "outputs": [],
   "source": [
    "class BaseDataset:\n",
    "    def __init__(self):\n",
    "        pass\n",
    "\n",
    "    def get_pair(self, cls, shuffle):\n",
    "        raise NotImplementedError\n",
    "\n",
    "class QAPLIB(BaseDataset):\n",
    "    def __init__(self, sets, cls, fetch_online=False):\n",
    "        super(QAPLIB, self).__init__()\n",
    "        self.classes = ['qaplib']\n",
    "        self.sets = sets\n",
    "\n",
    "        if cls is not None and cls != 'none':\n",
    "            idx = cls_list.index(cls)\n",
    "            self.cls_list = [cls_list[idx]]\n",
    "        else:\n",
    "            self.cls_list = cls_list\n",
    "\n",
    "        self.data_list = []\n",
    "        self.qap_path = Path('./data/qapdata/')\n",
    "        for inst in self.cls_list:\n",
    "            for dat_path in self.qap_path.glob(inst + '*.dat'):\n",
    "                name = dat_path.name[:-4]\n",
    "                prob_size = int(re.findall(r\"\\d+\", name)[0])\n",
    "                if (self.sets == 'test' and prob_size > 90) \\\n",
    "                    or (self.sets == 'train' and prob_size > 110):\n",
    "                    continue\n",
    "                self.data_list.append(name)\n",
    "\n",
    "        # remove trivial instance esc16f\n",
    "        if 'esc16f' in self.data_list:\n",
    "            self.data_list.remove('esc16f')\n",
    "\n",
    "        # define compare function\n",
    "        def name_cmp(a, b):\n",
    "            a = re.findall(r'[0-9]+|[a-z]+', a)\n",
    "            b = re.findall(r'[0-9]+|[a-z]+', b)\n",
    "            for _a, _b in zip(a, b):\n",
    "                if _a.isdigit() and _b.isdigit():\n",
    "                    _a = int(_a)\n",
    "                    _b = int(_b)\n",
    "                cmp = (_a > _b) - (_a < _b)\n",
    "                if cmp != 0:\n",
    "                    return cmp\n",
    "            if len(a) > len(b):\n",
    "                return -1\n",
    "            elif len(a) < len(b):\n",
    "                return 1\n",
    "            else:\n",
    "                return 0\n",
    "\n",
    "        def cmp_to_key(mycmp):\n",
    "            'Convert a cmp= function into a key= function'\n",
    "            class K:\n",
    "                def __init__(self, obj, *args):\n",
    "                    self.obj = obj\n",
    "                def __lt__(self, other):\n",
    "                    return mycmp(self.obj, other.obj) < 0\n",
    "                def __gt__(self, other):\n",
    "                    return mycmp(self.obj, other.obj) > 0\n",
    "                def __eq__(self, other):\n",
    "                    return mycmp(self.obj, other.obj) == 0\n",
    "                def __le__(self, other):\n",
    "                    return mycmp(self.obj, other.obj) <= 0\n",
    "                def __ge__(self, other):\n",
    "                    return mycmp(self.obj, other.obj) >= 0\n",
    "                def __ne__(self, other):\n",
    "                    return mycmp(self.obj, other.obj) != 0\n",
    "            return K\n",
    "\n",
    "        # sort data list according to the names\n",
    "        self.data_list.sort(key=cmp_to_key(name_cmp))\n",
    "\n",
    "    def __len__(self):\n",
    "        return len(self.data_list)\n",
    "    \n",
    "    def get_pair(self, idx, shuffle=None):\n",
    "        \"\"\"\n",
    "        Get QAP data by index\n",
    "        :param idx: dataset index\n",
    "        :param shuffle: no use here\n",
    "        :return: (pair of data, groundtruth permutation matrix)\n",
    "        \"\"\"\n",
    "        name = self.data_list[idx]\n",
    "\n",
    "        dat_path = self.qap_path / (name + '.dat')\n",
    "        sln_path = self.qap_path / (name + '.sln')\n",
    "        dat_file = dat_path.open()\n",
    "        sln_file = sln_path.open()\n",
    "\n",
    "        def split_line(x):\n",
    "            for _ in re.split(r'[,\\s]', x.rstrip('\\n')):\n",
    "                if _ == \"\":\n",
    "                    continue\n",
    "                else:\n",
    "                    yield int(_)\n",
    "\n",
    "        dat_list = [[_ for _ in split_line(line)] for line in dat_file]\n",
    "        sln_list = [[_ for _ in split_line(line)] for line in sln_file]\n",
    "\n",
    "        prob_size = dat_list[0][0]\n",
    "\n",
    "        # read data\n",
    "        r = 0\n",
    "        c = 0\n",
    "        Fi = [[]]\n",
    "        Fj = [[]]\n",
    "        F = Fi\n",
    "        for l in dat_list[1:]:\n",
    "            F[r] += l\n",
    "            c += len(l)\n",
    "            assert c <= prob_size\n",
    "            if c == prob_size:\n",
    "                r += 1\n",
    "                if r < prob_size:\n",
    "                    F.append([])\n",
    "                    c = 0\n",
    "                else:\n",
    "                    F = Fj\n",
    "                    r = 0\n",
    "                    c = 0\n",
    "        Fi = np.array(Fi, dtype=np.float32)\n",
    "        Fj = np.array(Fj, dtype=np.float32)\n",
    "        assert Fi.shape == Fj.shape == (prob_size, prob_size)\n",
    "        #K = np.kron(Fj, Fi)\n",
    "\n",
    "        # read solution\n",
    "        sol = sln_list[0][1]\n",
    "        obj = sln_list[0][-1]\n",
    "        perm_list = []\n",
    "        for _ in sln_list[1:]:\n",
    "            perm_list += _\n",
    "        assert len(perm_list) == prob_size\n",
    "        perm_mat = np.zeros((prob_size, prob_size), dtype=np.float32)\n",
    "        for r, c in enumerate(perm_list):\n",
    "            perm_mat[r, c - 1] = 1\n",
    "\n",
    "        return Fi, Fj, perm_mat, sol, name,obj\n",
    "    "
   ]
  },
  {
   "cell_type": "code",
   "execution_count": 102,
   "metadata": {},
   "outputs": [],
   "source": [
    "import torch\n",
    "import torch.nn.functional as F\n",
    "from torch.utils.data import Dataset\n",
    "from torchvision import transforms\n",
    "import torch_geometric as pyg\n",
    "import numpy as np\n",
    "from pathlib import Path\n",
    "import random\n",
    "import re\n",
    "import pygmtools as pygm\n",
    "import time\n",
    "import copy\n",
    "cls_list = ['bur', 'chr', 'els', 'esc', 'had', 'kra', 'lipa', 'nug', 'rou', 'scr', 'sko', 'ste', 'tai', 'tho', 'wil']\n",
    "train_set = QAPLIB('train','tai')\n",
    "F,D,per,sol,name, opt_obj = train_set.get_pair(3)\n",
    "\n",
    "def form_per(sol):\n",
    "    N = len(sol)\n",
    "    per = np.zeros((N,N))\n",
    "    \n",
    "    for i,j in sol:\n",
    "        per[i,j] = 1\n",
    "\n",
    "    return per\n",
    "def sub2whole(sub_sol,sol,index):\n",
    "    sol_out = copy.copy(sol)\n",
    "    sub_prob_size = len(sub_sol)\n",
    "    unassigned_loc = sorted([loc for idx, loc in sol if idx in index])\n",
    "    unassigned_flow = index\n",
    "\n",
    "    for i in range(sub_prob_size):\n",
    "        sol_out[unassigned_flow[i]][1] = unassigned_loc[sub_sol[i][1]]\n",
    "    \n",
    "    return sol_out"
   ]
  },
  {
   "cell_type": "code",
   "execution_count": 90,
   "metadata": {},
   "outputs": [],
   "source": [
    "index = [3,5]\n",
    "out_index = [0,1,2,4,6,7,8,9,10,11]"
   ]
  },
  {
   "cell_type": "code",
   "execution_count": 108,
   "metadata": {},
   "outputs": [],
   "source": [
    "N = len(index)\n",
    "per_sol = np.eye(12)\n",
    "per_assigned = per_sol[out_index]\n",
    "x = np.array([[0,1],[1,0]])\n",
    "sub_D = D[index][:,index]\n",
    "sub_F = F[index][:,index]\n",
    "sub_left_D = D[index][:] @ per_assigned.T\n",
    "sub_right_D = per_assigned @ D[:,index]\n",
    "sub_left_F = F[index][:,out_index]\n",
    "sub_right_F = F[out_index][:,index]\n",
    "objective = np.sum(sub_F*(x@sub_D@x.T)) # 二次项\n",
    "objective += np.sum(sub_left_F*(x@sub_left_D))\n",
    "objective += np.sum(sub_right_F*(sub_right_D@x.T)) #一次项\n",
    "\n"
   ]
  },
  {
   "cell_type": "code",
   "execution_count": 109,
   "metadata": {},
   "outputs": [
    {
     "data": {
      "text/plain": [
       "11625956.0"
      ]
     },
     "execution_count": 109,
     "metadata": {},
     "output_type": "execute_result"
    }
   ],
   "source": [
    "objective"
   ]
  },
  {
   "cell_type": "code",
   "execution_count": 110,
   "metadata": {},
   "outputs": [
    {
     "data": {
      "text/plain": [
       "97199908.0"
      ]
     },
     "execution_count": 110,
     "metadata": {},
     "output_type": "execute_result"
    }
   ],
   "source": [
    "per_sol[3,5], per_sol[3,3] = per_sol[3,3],per_sol[3,5]\n",
    "per_sol[5,5], per_sol[5,3] = per_sol[5,3],per_sol[5,5]\n",
    "np.sum(F*(per_sol@D@per_sol.T))"
   ]
  },
  {
   "cell_type": "code",
   "execution_count": 111,
   "metadata": {},
   "outputs": [
    {
     "data": {
      "text/plain": [
       "array([[1., 0., 0., 0., 0., 0., 0., 0., 0., 0., 0., 0.],\n",
       "       [0., 1., 0., 0., 0., 0., 0., 0., 0., 0., 0., 0.],\n",
       "       [0., 0., 1., 0., 0., 0., 0., 0., 0., 0., 0., 0.],\n",
       "       [0., 0., 0., 0., 0., 1., 0., 0., 0., 0., 0., 0.],\n",
       "       [0., 0., 0., 0., 1., 0., 0., 0., 0., 0., 0., 0.],\n",
       "       [0., 0., 0., 1., 0., 0., 0., 0., 0., 0., 0., 0.],\n",
       "       [0., 0., 0., 0., 0., 0., 1., 0., 0., 0., 0., 0.],\n",
       "       [0., 0., 0., 0., 0., 0., 0., 1., 0., 0., 0., 0.],\n",
       "       [0., 0., 0., 0., 0., 0., 0., 0., 1., 0., 0., 0.],\n",
       "       [0., 0., 0., 0., 0., 0., 0., 0., 0., 1., 0., 0.],\n",
       "       [0., 0., 0., 0., 0., 0., 0., 0., 0., 0., 1., 0.],\n",
       "       [0., 0., 0., 0., 0., 0., 0., 0., 0., 0., 0., 1.]])"
      ]
     },
     "execution_count": 111,
     "metadata": {},
     "output_type": "execute_result"
    }
   ],
   "source": [
    "per_sol"
   ]
  },
  {
   "cell_type": "code",
   "execution_count": 112,
   "metadata": {},
   "outputs": [
    {
     "data": {
      "text/plain": [
       "85573952.0"
      ]
     },
     "execution_count": 112,
     "metadata": {},
     "output_type": "execute_result"
    }
   ],
   "source": [
    "F_1 = F[out_index][:,out_index]\n",
    "np.sum(F_1*(per_sol[out_index] @ D @ per_sol.T[:,out_index]))"
   ]
  },
  {
   "cell_type": "code",
   "execution_count": 113,
   "metadata": {},
   "outputs": [
    {
     "data": {
      "text/plain": [
       "97199908.0"
      ]
     },
     "execution_count": 113,
     "metadata": {},
     "output_type": "execute_result"
    }
   ],
   "source": [
    "11625956.0+ 85573952.0"
   ]
  },
  {
   "cell_type": "code",
   "execution_count": 124,
   "metadata": {},
   "outputs": [
    {
     "ename": "IndexError",
     "evalue": "list index out of range",
     "output_type": "error",
     "traceback": [
      "\u001b[0;31m---------------------------------------------------------------------------\u001b[0m",
      "\u001b[0;31mIndexError\u001b[0m                                Traceback (most recent call last)",
      "\u001b[0;32m/tmp/ipykernel_23774/3476902960.py\u001b[0m in \u001b[0;36m<module>\u001b[0;34m\u001b[0m\n\u001b[1;32m      1\u001b[0m \u001b[0msub\u001b[0m \u001b[0;34m=\u001b[0m \u001b[0;34m[\u001b[0m\u001b[0;34m[\u001b[0m\u001b[0;36m0\u001b[0m\u001b[0;34m,\u001b[0m \u001b[0;36m4\u001b[0m\u001b[0;34m]\u001b[0m\u001b[0;34m,\u001b[0m \u001b[0;34m[\u001b[0m\u001b[0;36m1\u001b[0m\u001b[0;34m,\u001b[0m \u001b[0;36m1\u001b[0m\u001b[0;34m]\u001b[0m\u001b[0;34m,\u001b[0m \u001b[0;34m[\u001b[0m\u001b[0;36m2\u001b[0m\u001b[0;34m,\u001b[0m \u001b[0;36m0\u001b[0m\u001b[0;34m]\u001b[0m\u001b[0;34m,\u001b[0m \u001b[0;34m[\u001b[0m\u001b[0;36m3\u001b[0m\u001b[0;34m,\u001b[0m \u001b[0;36m3\u001b[0m\u001b[0;34m]\u001b[0m\u001b[0;34m,\u001b[0m \u001b[0;34m[\u001b[0m\u001b[0;36m4\u001b[0m\u001b[0;34m,\u001b[0m \u001b[0;36m2\u001b[0m\u001b[0;34m]\u001b[0m\u001b[0;34m]\u001b[0m\u001b[0;34m\u001b[0m\u001b[0;34m\u001b[0m\u001b[0m\n\u001b[1;32m      2\u001b[0m \u001b[0msol\u001b[0m \u001b[0;34m=\u001b[0m \u001b[0;34m[\u001b[0m\u001b[0;34m[\u001b[0m\u001b[0mi\u001b[0m\u001b[0;34m,\u001b[0m\u001b[0mi\u001b[0m\u001b[0;34m]\u001b[0m \u001b[0;32mfor\u001b[0m \u001b[0mi\u001b[0m \u001b[0;32min\u001b[0m \u001b[0mrange\u001b[0m\u001b[0;34m(\u001b[0m\u001b[0;36m12\u001b[0m\u001b[0;34m)\u001b[0m\u001b[0;34m]\u001b[0m\u001b[0;34m\u001b[0m\u001b[0;34m\u001b[0m\u001b[0m\n\u001b[0;32m----> 3\u001b[0;31m \u001b[0msol_\u001b[0m \u001b[0;34m=\u001b[0m \u001b[0msub2whole\u001b[0m\u001b[0;34m(\u001b[0m\u001b[0msub\u001b[0m\u001b[0;34m,\u001b[0m\u001b[0msol\u001b[0m\u001b[0;34m,\u001b[0m\u001b[0mindex\u001b[0m\u001b[0;34m)\u001b[0m\u001b[0;34m\u001b[0m\u001b[0;34m\u001b[0m\u001b[0m\n\u001b[0m\u001b[1;32m      4\u001b[0m \u001b[0mper\u001b[0m \u001b[0;34m=\u001b[0m \u001b[0mform_per\u001b[0m\u001b[0;34m(\u001b[0m\u001b[0msol_\u001b[0m\u001b[0;34m)\u001b[0m\u001b[0;34m\u001b[0m\u001b[0;34m\u001b[0m\u001b[0m\n",
      "\u001b[0;32m/tmp/ipykernel_23774/907102748.py\u001b[0m in \u001b[0;36msub2whole\u001b[0;34m(sub_sol, sol, index)\u001b[0m\n\u001b[1;32m     30\u001b[0m \u001b[0;34m\u001b[0m\u001b[0m\n\u001b[1;32m     31\u001b[0m     \u001b[0;32mfor\u001b[0m \u001b[0mi\u001b[0m \u001b[0;32min\u001b[0m \u001b[0mrange\u001b[0m\u001b[0;34m(\u001b[0m\u001b[0msub_prob_size\u001b[0m\u001b[0;34m)\u001b[0m\u001b[0;34m:\u001b[0m\u001b[0;34m\u001b[0m\u001b[0;34m\u001b[0m\u001b[0m\n\u001b[0;32m---> 32\u001b[0;31m         \u001b[0msol_out\u001b[0m\u001b[0;34m[\u001b[0m\u001b[0munassigned_flow\u001b[0m\u001b[0;34m[\u001b[0m\u001b[0mi\u001b[0m\u001b[0;34m]\u001b[0m\u001b[0;34m]\u001b[0m\u001b[0;34m[\u001b[0m\u001b[0;36m1\u001b[0m\u001b[0;34m]\u001b[0m \u001b[0;34m=\u001b[0m \u001b[0munassigned_loc\u001b[0m\u001b[0;34m[\u001b[0m\u001b[0msub_sol\u001b[0m\u001b[0;34m[\u001b[0m\u001b[0mi\u001b[0m\u001b[0;34m]\u001b[0m\u001b[0;34m[\u001b[0m\u001b[0;36m1\u001b[0m\u001b[0;34m]\u001b[0m\u001b[0;34m]\u001b[0m\u001b[0;34m\u001b[0m\u001b[0;34m\u001b[0m\u001b[0m\n\u001b[0m\u001b[1;32m     33\u001b[0m \u001b[0;34m\u001b[0m\u001b[0m\n\u001b[1;32m     34\u001b[0m     \u001b[0;32mreturn\u001b[0m \u001b[0msol_out\u001b[0m\u001b[0;34m\u001b[0m\u001b[0;34m\u001b[0m\u001b[0m\n",
      "\u001b[0;31mIndexError\u001b[0m: list index out of range"
     ]
    }
   ],
   "source": [
    "sub = [[0, 4], [1, 1], [2, 0], [3, 3], [4, 2]]\n",
    "sol = [[i,i] for i in range(12)]\n",
    "sol_ = sub2whole(sub,sol,index)\n",
    "per = form_per(sol_)"
   ]
  },
  {
   "cell_type": "code",
   "execution_count": 120,
   "metadata": {},
   "outputs": [
    {
     "data": {
      "text/plain": [
       "97199908.0"
      ]
     },
     "execution_count": 120,
     "metadata": {},
     "output_type": "execute_result"
    }
   ],
   "source": [
    "np.sum(F*(per@D@per.T))"
   ]
  },
  {
   "cell_type": "code",
   "execution_count": 116,
   "metadata": {},
   "outputs": [
    {
     "data": {
      "text/plain": [
       "array([[1., 0., 0., 0., 0., 0., 0., 0., 0., 0., 0., 0.],\n",
       "       [0., 1., 0., 0., 0., 0., 0., 0., 0., 0., 0., 0.],\n",
       "       [0., 0., 1., 0., 0., 0., 0., 0., 0., 0., 0., 0.],\n",
       "       [0., 0., 0., 0., 0., 1., 0., 0., 0., 0., 0., 0.],\n",
       "       [0., 0., 0., 0., 1., 0., 0., 0., 0., 0., 0., 0.],\n",
       "       [0., 0., 0., 0., 0., 1., 0., 0., 0., 0., 0., 0.],\n",
       "       [0., 0., 0., 0., 0., 0., 1., 0., 0., 0., 0., 0.],\n",
       "       [0., 0., 0., 0., 0., 0., 0., 1., 0., 0., 0., 0.],\n",
       "       [0., 0., 0., 0., 0., 0., 0., 0., 1., 0., 0., 0.],\n",
       "       [0., 0., 0., 0., 0., 0., 0., 0., 0., 1., 0., 0.],\n",
       "       [0., 0., 0., 0., 0., 0., 0., 0., 0., 0., 1., 0.],\n",
       "       [0., 0., 0., 0., 0., 0., 0., 0., 0., 0., 0., 1.]])"
      ]
     },
     "execution_count": 116,
     "metadata": {},
     "output_type": "execute_result"
    }
   ],
   "source": [
    "per"
   ]
  },
  {
   "cell_type": "code",
   "execution_count": 125,
   "metadata": {},
   "outputs": [],
   "source": [
    "sub = [[0, 4], [1, 1], [2, 0], [3, 3], [4, 2]]\n"
   ]
  },
  {
   "cell_type": "code",
   "execution_count": 127,
   "metadata": {},
   "outputs": [],
   "source": [
    "row = [i for i ,_ in sub ]\n",
    "col = [i for _, i in sub ]"
   ]
  },
  {
   "cell_type": "code",
   "execution_count": 131,
   "metadata": {},
   "outputs": [
    {
     "data": {
      "text/plain": [
       "array([[1.0000e+00, 0.0000e+00, 0.0000e+00, 1.0000e+00, 5.0000e+00],\n",
       "       [4.0000e+00, 0.0000e+00, 1.0000e+00, 1.0640e+03, 1.4568e+04],\n",
       "       [2.0000e+00, 0.0000e+00, 2.5642e+04, 0.0000e+00, 0.0000e+00],\n",
       "       [0.0000e+00, 0.0000e+00, 2.7000e+01, 0.0000e+00, 6.2000e+01],\n",
       "       [0.0000e+00, 5.7000e+01, 0.0000e+00, 0.0000e+00, 0.0000e+00]],\n",
       "      dtype=float32)"
      ]
     },
     "execution_count": 131,
     "metadata": {},
     "output_type": "execute_result"
    }
   ],
   "source": [
    "D[row][:,col]"
   ]
  },
  {
   "cell_type": "code",
   "execution_count": 6,
   "metadata": {},
   "outputs": [],
   "source": [
    "l = np.array([[1,2,3],[2,3,4],[3,4,5]])"
   ]
  },
  {
   "cell_type": "code",
   "execution_count": 8,
   "metadata": {},
   "outputs": [
    {
     "data": {
      "text/plain": [
       "array([[2, 3, 4],\n",
       "       [1, 2, 3]])"
      ]
     },
     "execution_count": 8,
     "metadata": {},
     "output_type": "execute_result"
    }
   ],
   "source": [
    "l[[1,0]]"
   ]
  },
  {
   "cell_type": "code",
   "execution_count": null,
   "metadata": {},
   "outputs": [],
   "source": []
  }
 ],
 "metadata": {
  "kernelspec": {
   "display_name": "ThinkMatch",
   "language": "python",
   "name": "python3"
  },
  "language_info": {
   "codemirror_mode": {
    "name": "ipython",
    "version": 3
   },
   "file_extension": ".py",
   "mimetype": "text/x-python",
   "name": "python",
   "nbconvert_exporter": "python",
   "pygments_lexer": "ipython3",
   "version": "3.7.13"
  },
  "orig_nbformat": 4
 },
 "nbformat": 4,
 "nbformat_minor": 2
}
