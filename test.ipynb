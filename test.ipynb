{
 "cells": [
  {
   "cell_type": "code",
   "execution_count": 5,
   "metadata": {},
   "outputs": [],
   "source": [
    "import numpy as np"
   ]
  },
  {
   "cell_type": "code",
   "execution_count": 368,
   "metadata": {},
   "outputs": [],
   "source": [
    "obj = np.load('./result_gurobi/tai64cLNS_obj.npy')\n",
    "obj = (obj-1855928)/1855928\n"
   ]
  },
  {
   "cell_type": "code",
   "execution_count": 369,
   "metadata": {},
   "outputs": [
    {
     "data": {
      "text/plain": [
       "array([6.75975577e-01, 6.75975577e-01, 6.63698161e-01, 6.07753102e-01,\n",
       "       5.86749055e-01, 3.23420952e-01, 3.17243988e-01, 2.35748370e-01,\n",
       "       2.15612890e-01, 2.12329358e-01, 1.90903957e-01, 1.11218754e-01,\n",
       "       7.39759301e-02, 7.07452013e-02, 2.11279748e-02, 8.67813838e-03,\n",
       "       8.67813838e-03, 3.25551422e-03, 3.25551422e-03, 3.18115789e-03,\n",
       "       3.18115789e-03, 3.18115789e-03, 3.18115789e-03, 3.18115789e-03,\n",
       "       3.18115789e-03, 3.18115789e-03, 3.18115789e-03, 3.18115789e-03,\n",
       "       3.18115789e-03, 3.18115789e-03, 3.18115789e-03, 3.18115789e-03,\n",
       "       3.18115789e-03, 3.18115789e-03, 3.18115789e-03, 3.18115789e-03,\n",
       "       3.18115789e-03, 3.18115789e-03, 3.18115789e-03, 3.18115789e-03,\n",
       "       3.18115789e-03, 3.18115789e-03, 3.18115789e-03, 3.18115789e-03,\n",
       "       3.18115789e-03, 3.18115789e-03, 3.18115789e-03, 3.18115789e-03,\n",
       "       3.18115789e-03, 3.18115789e-03, 3.18115789e-03, 3.18115789e-03,\n",
       "       3.18115789e-03, 3.18115789e-03, 3.18115789e-03, 3.18115789e-03,\n",
       "       3.18115789e-03, 3.18115789e-03, 3.18115789e-03, 3.18115789e-03,\n",
       "       3.18115789e-03, 3.18115789e-03, 3.18115789e-03, 3.18115789e-03,\n",
       "       3.18115789e-03, 3.18115789e-03, 3.18115789e-03, 3.18115789e-03,\n",
       "       2.52164955e-04, 2.52164955e-04, 2.52164955e-04, 2.52164955e-04,\n",
       "       2.52164955e-04, 2.52164955e-04, 2.52164955e-04, 2.52164955e-04,\n",
       "       2.52164955e-04, 2.52164955e-04, 2.52164955e-04, 2.52164955e-04,\n",
       "       2.52164955e-04, 2.52164955e-04, 2.52164955e-04, 2.52164955e-04,\n",
       "       2.52164955e-04, 2.52164955e-04, 2.52164955e-04, 2.52164955e-04,\n",
       "       2.52164955e-04, 2.52164955e-04, 2.52164955e-04, 2.52164955e-04,\n",
       "       2.52164955e-04, 2.52164955e-04, 2.52164955e-04, 2.52164955e-04,\n",
       "       2.52164955e-04, 2.52164955e-04, 2.52164955e-04, 2.52164955e-04,\n",
       "       2.52164955e-04, 2.52164955e-04, 2.52164955e-04, 2.52164955e-04,\n",
       "       2.52164955e-04, 2.52164955e-04, 2.52164955e-04, 2.52164955e-04,\n",
       "       2.52164955e-04, 2.52164955e-04, 2.52164955e-04, 2.52164955e-04,\n",
       "       2.52164955e-04, 2.52164955e-04, 2.52164955e-04, 2.52164955e-04,\n",
       "       2.52164955e-04])"
      ]
     },
     "execution_count": 369,
     "metadata": {},
     "output_type": "execute_result"
    }
   ],
   "source": [
    "obj"
   ]
  },
  {
   "cell_type": "code",
   "execution_count": 370,
   "metadata": {},
   "outputs": [
    {
     "data": {
      "text/plain": [
       "array([2.81715393e-03, 6.36688519e+00, 6.77692199e+00, 6.81237912e+00,\n",
       "       6.88566113e+00, 7.08721519e+00, 7.58491516e+00, 7.58636999e+00,\n",
       "       1.06486962e+01, 1.08753152e+01, 1.11097090e+01, 1.28744521e+01,\n",
       "       1.28759172e+01, 1.28773332e+01, 1.43314750e+01, 1.83827622e+01,\n",
       "       2.00124822e+01, 4.00364187e+01, 4.03976555e+01, 4.08978801e+01,\n",
       "       4.12411380e+01, 4.14366972e+01, 4.64692838e+01, 4.66177118e+01,\n",
       "       4.67782340e+01, 5.31617799e+01, 5.33313055e+01, 5.34917514e+01,\n",
       "       5.36500826e+01, 5.40192573e+01, 5.41811159e+01, 5.45183649e+01,\n",
       "       5.46877027e+01, 5.48464532e+01, 5.49993944e+01, 5.51822367e+01,\n",
       "       5.53401177e+01, 5.55050609e+01, 5.57095366e+01, 5.66061809e+01,\n",
       "       5.67574275e+01, 5.69285994e+01, 5.71037688e+01, 5.72626851e+01,\n",
       "       5.74599237e+01, 5.76179893e+01, 5.78500092e+01, 5.79998691e+01,\n",
       "       5.81952548e+01, 5.84467905e+01, 5.86669493e+01, 5.88566444e+01,\n",
       "       5.90289369e+01, 5.92046301e+01, 5.93457658e+01, 5.95352504e+01,\n",
       "       5.97263334e+01, 5.98814628e+01, 6.00303912e+01, 6.01927483e+01,\n",
       "       6.03554182e+01, 6.05884521e+01, 6.07353609e+01, 6.08945990e+01,\n",
       "       6.16754351e+01, 6.19026406e+01, 6.21389408e+01, 6.22922344e+01,\n",
       "       6.25632310e+01, 6.27391462e+01, 6.28979702e+01, 6.30764282e+01,\n",
       "       6.32233794e+01, 6.33756127e+01, 6.39522636e+01, 6.40942528e+01,\n",
       "       6.42667675e+01, 6.44250662e+01, 6.45907524e+01, 6.47722921e+01,\n",
       "       6.54944489e+01, 6.88805470e+01, 6.90595050e+01, 6.92426467e+01,\n",
       "       6.94326508e+01, 6.96453733e+01, 6.98289843e+01, 6.99917107e+01,\n",
       "       7.01686506e+01, 7.03340354e+01, 7.04809117e+01, 7.06490946e+01,\n",
       "       7.08736393e+01, 7.11456652e+01, 7.12943420e+01, 7.14731441e+01,\n",
       "       7.16281271e+01, 7.18021410e+01, 7.20952516e+01, 7.22555816e+01,\n",
       "       7.24098051e+01, 7.25989625e+01, 7.27506485e+01, 7.29507804e+01,\n",
       "       7.31505473e+01, 7.33168368e+01, 7.35015361e+01, 7.36617961e+01,\n",
       "       7.40111163e+01, 7.41768556e+01, 7.43515258e+01, 7.45007935e+01,\n",
       "       7.46549807e+01, 7.49924681e+01, 7.51931570e+01, 7.53758528e+01,\n",
       "       7.56687796e+01])"
      ]
     },
     "execution_count": 370,
     "metadata": {},
     "output_type": "execute_result"
    }
   ],
   "source": [
    "time = np.load('./result_gurobi/tai64cLNS_time.npy')\n",
    "time"
   ]
  },
  {
   "cell_type": "code",
   "execution_count": 371,
   "metadata": {},
   "outputs": [],
   "source": [
    "obj_grb = np.load('./result_gurobi/tai64c_obj.npy')\n",
    "time_grb = np.load('./result_gurobi/tai64c_time.npy')"
   ]
  },
  {
   "cell_type": "code",
   "execution_count": 357,
   "metadata": {},
   "outputs": [],
   "source": [
    "obj_grb = obj_grb.tolist()\n",
    "temp = obj_grb[-1]\n",
    "obj_grb.append(temp)\n",
    "obj_grb = np.asarray(obj_grb)"
   ]
  },
  {
   "cell_type": "code",
   "execution_count": 239,
   "metadata": {},
   "outputs": [],
   "source": [
    "obj_grb = np.asarray([107070.00000,\n",
    "104624.00000   ,\n",
    "100852.00000 ,\n",
    "100852.000  ,\n",
    "97680.000000 ,\n",
    "97680.0000,\n",
    "97680.0000,\n",
    "97680.0000,\n",
    "97680])\n",
    "time_grb= np.asarray([0,380,398,400,508,516,521,530,2500])"
   ]
  },
  {
   "cell_type": "code",
   "execution_count": 358,
   "metadata": {},
   "outputs": [],
   "source": [
    "time_grb = time_grb.tolist()\n",
    "time_grb.append(510)\n",
    "time_grb = np.asarray(time_grb)"
   ]
  },
  {
   "cell_type": "code",
   "execution_count": 374,
   "metadata": {},
   "outputs": [],
   "source": [
    "time_grb[-1] = 75"
   ]
  },
  {
   "cell_type": "code",
   "execution_count": 373,
   "metadata": {},
   "outputs": [
    {
     "data": {
      "text/plain": [
       "array([2.77996063e-03, 4.54615402e+00, 4.96021700e+00, 4.99191809e+00,\n",
       "       5.06236291e+00, 5.25712109e+00, 5.74563909e+00, 5.74732590e+00,\n",
       "       8.82806396e+00, 9.04194593e+00, 9.27310395e+00, 1.08944969e+01,\n",
       "       1.08960710e+01, 1.08973610e+01, 1.22346361e+01, 1.60666599e+01,\n",
       "       2.06965179e+01, 3.36115451e+01, 3.63347631e+01, 5.00015539e+02])"
      ]
     },
     "execution_count": 373,
     "metadata": {},
     "output_type": "execute_result"
    }
   ],
   "source": [
    "time_grb"
   ]
  },
  {
   "cell_type": "code",
   "execution_count": 375,
   "metadata": {},
   "outputs": [],
   "source": [
    "obj_grb[-1] = 0.002"
   ]
  },
  {
   "cell_type": "code",
   "execution_count": 372,
   "metadata": {},
   "outputs": [
    {
     "data": {
      "text/plain": [
       "array([0.67597558, 0.67597558, 0.66369816, 0.6077531 , 0.58674905,\n",
       "       0.32342095, 0.31724399, 0.23574837, 0.21561289, 0.21232936,\n",
       "       0.19090396, 0.11121875, 0.07397593, 0.0707452 , 0.02112797,\n",
       "       0.00867814, 0.00867814, 0.00390317, 0.00238156, 0.00238156])"
      ]
     },
     "execution_count": 372,
     "metadata": {},
     "output_type": "execute_result"
    }
   ],
   "source": [
    "obj_grb = (obj_grb-1855928)/1855928\n",
    "obj_grb"
   ]
  },
  {
   "cell_type": "code",
   "execution_count": 89,
   "metadata": {},
   "outputs": [],
   "source": [
    "import matplotlib.pyplot as plt"
   ]
  },
  {
   "cell_type": "code",
   "execution_count": 376,
   "metadata": {},
   "outputs": [
    {
     "data": {
      "image/png": "[encoded data removed]",
      "text/plain": [
       "<Figure size 640x480 with 1 Axes>"
      ]
     },
     "metadata": {},
     "output_type": "display_data"
    }
   ],
   "source": [
    "fig, ax = plt.subplots()\n",
    "ax.plot(time,obj)\n",
    "ax.plot(time_grb,obj_grb)\n",
    "plt.savefig('./result_gurobi/tai64c.png')\n",
    "plt.show()\n"
   ]
  },
  {
   "cell_type": "code",
   "execution_count": 10,
   "metadata": {},
   "outputs": [
    {
     "name": "stderr",
     "output_type": "stream",
     "text": [
      "/home/tzt/anaconda3/envs/ThinkMatch/lib/python3.7/site-packages/tqdm/auto.py:22: TqdmWarning: IProgress not found. Please update jupyter and ipywidgets. See https://ipywidgets.readthedocs.io/en/stable/user_install.html\n",
      "  from .autonotebook import tqdm as notebook_tqdm\n"
     ]
    }
   ],
   "source": [
    "import torch"
   ]
  },
  {
   "cell_type": "code",
   "execution_count": 378,
   "metadata": {},
   "outputs": [],
   "source": [
    "matrix = torch.tensor([[1,2,3],[2,3,4],[3,4,5]])"
   ]
  },
  {
   "cell_type": "code",
   "execution_count": 379,
   "metadata": {},
   "outputs": [],
   "source": [
    "index = [1,2]"
   ]
  },
  {
   "cell_type": "code",
   "execution_count": 388,
   "metadata": {},
   "outputs": [
    {
     "data": {
      "text/plain": [
       "tensor([[3, 4],\n",
       "        [4, 5]])"
      ]
     },
     "execution_count": 388,
     "metadata": {},
     "output_type": "execute_result"
    }
   ],
   "source": [
    "matrix[index][:,index]"
   ]
  },
  {
   "cell_type": "code",
   "execution_count": 1,
   "metadata": {},
   "outputs": [
    {
     "data": {
      "text/plain": [
       "[1, 2, 3, 4]"
      ]
     },
     "execution_count": 1,
     "metadata": {},
     "output_type": "execute_result"
    }
   ],
   "source": [
    "sorted([1,3,4,2])"
   ]
  },
  {
   "cell_type": "code",
   "execution_count": 2,
   "metadata": {},
   "outputs": [],
   "source": [
    "def sub2whole(sub_sol,sol,index):\n",
    "    sub_prob_size = len(sub_sol)\n",
    "    unassigned_loc = sorted([loc for idx, loc in sol if idx in index])\n",
    "    unassigned_flow = sorted(index)\n",
    "\n",
    "    for i in range(sub_prob_size):\n",
    "        sol[unassigned_flow[i]][1] = unassigned_loc[sub_sol[i][1]]\n",
    "    \n",
    "    return sol"
   ]
  },
  {
   "cell_type": "code",
   "execution_count": 7,
   "metadata": {},
   "outputs": [],
   "source": [
    "sub_sol = [[0,2],[1,0],[2,1],[3,3]]\n",
    "sol = [[i,i] for i in range(10)]\n",
    "index = [4,7,8,9]"
   ]
  },
  {
   "cell_type": "code",
   "execution_count": 8,
   "metadata": {},
   "outputs": [
    {
     "data": {
      "text/plain": [
       "[[0, 0],\n",
       " [1, 1],\n",
       " [2, 2],\n",
       " [3, 3],\n",
       " [4, 8],\n",
       " [5, 5],\n",
       " [6, 6],\n",
       " [7, 4],\n",
       " [8, 7],\n",
       " [9, 9]]"
      ]
     },
     "execution_count": 8,
     "metadata": {},
     "output_type": "execute_result"
    }
   ],
   "source": [
    "sub2whole(sub_sol,sol, index)"
   ]
  },
  {
   "cell_type": "code",
   "execution_count": 40,
   "metadata": {},
   "outputs": [],
   "source": [
    "N = 1000\n",
    "D = torch.randn((N,N))\n",
    "F = torch.randn((N,N))"
   ]
  },
  {
   "cell_type": "code",
   "execution_count": 41,
   "metadata": {},
   "outputs": [],
   "source": [
    "X = torch.zeros((N,N))\n",
    "for i in range(N-1):\n",
    "    X[i,i+1] = 1\n",
    "X[-1,0] = 1"
   ]
  },
  {
   "cell_type": "code",
   "execution_count": 35,
   "metadata": {},
   "outputs": [
    {
     "data": {
      "text/plain": [
       "tensor([[0., 1., 0.,  ..., 0., 0., 0.],\n",
       "        [0., 0., 1.,  ..., 0., 0., 0.],\n",
       "        [0., 0., 0.,  ..., 0., 0., 0.],\n",
       "        ...,\n",
       "        [0., 0., 0.,  ..., 0., 1., 0.],\n",
       "        [0., 0., 0.,  ..., 0., 0., 1.],\n",
       "        [1., 0., 0.,  ..., 0., 0., 0.]])"
      ]
     },
     "execution_count": 35,
     "metadata": {},
     "output_type": "execute_result"
    }
   ],
   "source": [
    "X"
   ]
  },
  {
   "cell_type": "code",
   "execution_count": 42,
   "metadata": {},
   "outputs": [
    {
     "data": {
      "text/plain": [
       "tensor(-271.7660)"
      ]
     },
     "execution_count": 42,
     "metadata": {},
     "output_type": "execute_result"
    }
   ],
   "source": [
    "torch.sum(F*(X@D@X.T))"
   ]
  },
  {
   "cell_type": "code",
   "execution_count": 43,
   "metadata": {},
   "outputs": [],
   "source": [
    "sol = [[i,i+1] for i in range(N-1)]\n",
    "sol.append([N-1,0])"
   ]
  },
  {
   "cell_type": "code",
   "execution_count": 46,
   "metadata": {},
   "outputs": [],
   "source": [
    "sum = 0\n",
    "for i,k in sol:    \n",
    "    for j,l in sol:\n",
    "        sum += F[i,j]*D[k,l]"
   ]
  },
  {
   "cell_type": "code",
   "execution_count": 45,
   "metadata": {},
   "outputs": [
    {
     "data": {
      "text/plain": [
       "tensor(-271.7611)"
      ]
     },
     "execution_count": 45,
     "metadata": {},
     "output_type": "execute_result"
    }
   ],
   "source": [
    "sum"
   ]
  },
  {
   "cell_type": "code",
   "execution_count": 47,
   "metadata": {},
   "outputs": [],
   "source": [
    "X = torch.zeros((N,N))\n",
    "for i,j in sol:\n",
    "    X[i,j]=1"
   ]
  },
  {
   "cell_type": "code",
   "execution_count": 49,
   "metadata": {},
   "outputs": [
    {
     "data": {
      "text/plain": [
       "tensor(-271.7660)"
      ]
     },
     "execution_count": 49,
     "metadata": {},
     "output_type": "execute_result"
    }
   ],
   "source": [
    "torch.sum(F*(X@D@X.T))"
   ]
  },
  {
   "cell_type": "code",
   "execution_count": 50,
   "metadata": {},
   "outputs": [],
   "source": [
    "class BaseDataset:\n",
    "    def __init__(self):\n",
    "        pass\n",
    "\n",
    "    def get_pair(self, cls, shuffle):\n",
    "        raise NotImplementedError\n",
    "\n",
    "class QAPLIB(BaseDataset):\n",
    "    def __init__(self, sets, cls, fetch_online=False):\n",
    "        super(QAPLIB, self).__init__()\n",
    "        self.classes = ['qaplib']\n",
    "        self.sets = sets\n",
    "\n",
    "        if cls is not None and cls != 'none':\n",
    "            idx = cls_list.index(cls)\n",
    "            self.cls_list = [cls_list[idx]]\n",
    "        else:\n",
    "            self.cls_list = cls_list\n",
    "\n",
    "        self.data_list = []\n",
    "        self.qap_path = Path('./data/qapdata/')\n",
    "        for inst in self.cls_list:\n",
    "            for dat_path in self.qap_path.glob(inst + '*.dat'):\n",
    "                name = dat_path.name[:-4]\n",
    "                prob_size = int(re.findall(r\"\\d+\", name)[0])\n",
    "                if (self.sets == 'test' and prob_size > 90) \\\n",
    "                    or (self.sets == 'train' and prob_size > 110):\n",
    "                    continue\n",
    "                self.data_list.append(name)\n",
    "\n",
    "        # remove trivial instance esc16f\n",
    "        if 'esc16f' in self.data_list:\n",
    "            self.data_list.remove('esc16f')\n",
    "\n",
    "        # define compare function\n",
    "        def name_cmp(a, b):\n",
    "            a = re.findall(r'[0-9]+|[a-z]+', a)\n",
    "            b = re.findall(r'[0-9]+|[a-z]+', b)\n",
    "            for _a, _b in zip(a, b):\n",
    "                if _a.isdigit() and _b.isdigit():\n",
    "                    _a = int(_a)\n",
    "                    _b = int(_b)\n",
    "                cmp = (_a > _b) - (_a < _b)\n",
    "                if cmp != 0:\n",
    "                    return cmp\n",
    "            if len(a) > len(b):\n",
    "                return -1\n",
    "            elif len(a) < len(b):\n",
    "                return 1\n",
    "            else:\n",
    "                return 0\n",
    "\n",
    "        def cmp_to_key(mycmp):\n",
    "            'Convert a cmp= function into a key= function'\n",
    "            class K:\n",
    "                def __init__(self, obj, *args):\n",
    "                    self.obj = obj\n",
    "                def __lt__(self, other):\n",
    "                    return mycmp(self.obj, other.obj) < 0\n",
    "                def __gt__(self, other):\n",
    "                    return mycmp(self.obj, other.obj) > 0\n",
    "                def __eq__(self, other):\n",
    "                    return mycmp(self.obj, other.obj) == 0\n",
    "                def __le__(self, other):\n",
    "                    return mycmp(self.obj, other.obj) <= 0\n",
    "                def __ge__(self, other):\n",
    "                    return mycmp(self.obj, other.obj) >= 0\n",
    "                def __ne__(self, other):\n",
    "                    return mycmp(self.obj, other.obj) != 0\n",
    "            return K\n",
    "\n",
    "        # sort data list according to the names\n",
    "        self.data_list.sort(key=cmp_to_key(name_cmp))\n",
    "\n",
    "    def __len__(self):\n",
    "        return len(self.data_list)\n",
    "    \n",
    "    def get_pair(self, idx, shuffle=None):\n",
    "        \"\"\"\n",
    "        Get QAP data by index\n",
    "        :param idx: dataset index\n",
    "        :param shuffle: no use here\n",
    "        :return: (pair of data, groundtruth permutation matrix)\n",
    "        \"\"\"\n",
    "        name = self.data_list[idx]\n",
    "\n",
    "        dat_path = self.qap_path / (name + '.dat')\n",
    "        sln_path = self.qap_path / (name + '.sln')\n",
    "        dat_file = dat_path.open()\n",
    "        sln_file = sln_path.open()\n",
    "\n",
    "        def split_line(x):\n",
    "            for _ in re.split(r'[,\\s]', x.rstrip('\\n')):\n",
    "                if _ == \"\":\n",
    "                    continue\n",
    "                else:\n",
    "                    yield int(_)\n",
    "\n",
    "        dat_list = [[_ for _ in split_line(line)] for line in dat_file]\n",
    "        sln_list = [[_ for _ in split_line(line)] for line in sln_file]\n",
    "\n",
    "        prob_size = dat_list[0][0]\n",
    "\n",
    "        # read data\n",
    "        r = 0\n",
    "        c = 0\n",
    "        Fi = [[]]\n",
    "        Fj = [[]]\n",
    "        F = Fi\n",
    "        for l in dat_list[1:]:\n",
    "            F[r] += l\n",
    "            c += len(l)\n",
    "            assert c <= prob_size\n",
    "            if c == prob_size:\n",
    "                r += 1\n",
    "                if r < prob_size:\n",
    "                    F.append([])\n",
    "                    c = 0\n",
    "                else:\n",
    "                    F = Fj\n",
    "                    r = 0\n",
    "                    c = 0\n",
    "        Fi = np.array(Fi, dtype=np.float32)\n",
    "        Fj = np.array(Fj, dtype=np.float32)\n",
    "        assert Fi.shape == Fj.shape == (prob_size, prob_size)\n",
    "        #K = np.kron(Fj, Fi)\n",
    "\n",
    "        # read solution\n",
    "        sol = sln_list[0][1]\n",
    "        obj = sln_list[0][-1]\n",
    "        perm_list = []\n",
    "        for _ in sln_list[1:]:\n",
    "            perm_list += _\n",
    "        assert len(perm_list) == prob_size\n",
    "        perm_mat = np.zeros((prob_size, prob_size), dtype=np.float32)\n",
    "        for r, c in enumerate(perm_list):\n",
    "            perm_mat[r, c - 1] = 1\n",
    "\n",
    "        return Fi, Fj, perm_mat, sol, name,obj\n",
    "    "
   ]
  },
  {
   "cell_type": "code",
   "execution_count": 102,
   "metadata": {},
   "outputs": [],
   "source": [
    "import torch\n",
    "import torch.nn.functional as F\n",
    "from torch.utils.data import Dataset\n",
    "from torchvision import transforms\n",
    "import torch_geometric as pyg\n",
    "import numpy as np\n",
    "from pathlib import Path\n",
    "import random\n",
    "import re\n",
    "import pygmtools as pygm\n",
    "import time\n",
    "import copy\n",
    "cls_list = ['bur', 'chr', 'els', 'esc', 'had', 'kra', 'lipa', 'nug', 'rou', 'scr', 'sko', 'ste', 'tai', 'tho', 'wil']\n",
    "train_set = QAPLIB('train','tai')\n",
    "F,D,per,sol,name, opt_obj = train_set.get_pair(3)\n",
    "\n",
    "def form_per(sol):\n",
    "    N = len(sol)\n",
    "    per = np.zeros((N,N))\n",
    "    \n",
    "    for i,j in sol:\n",
    "        per[i,j] = 1\n",
    "\n",
    "    return per\n",
    "def sub2whole(sub_sol,sol,index):\n",
    "    sol_out = copy.copy(sol)\n",
    "    sub_prob_size = len(sub_sol)\n",
    "    unassigned_loc = sorted([loc for idx, loc in sol if idx in index])\n",
    "    unassigned_flow = index\n",
    "\n",
    "    for i in range(sub_prob_size):\n",
    "        sol_out[unassigned_flow[i]][1] = unassigned_loc[sub_sol[i][1]]\n",
    "    \n",
    "    return sol_out"
   ]
  },
  {
   "cell_type": "code",
   "execution_count": 90,
   "metadata": {},
   "outputs": [],
   "source": [
    "index = [3,5]\n",
    "out_index = [0,1,2,4,6,7,8,9,10,11]"
   ]
  },
  {
   "cell_type": "code",
   "execution_count": 108,
   "metadata": {},
   "outputs": [],
   "source": [
    "N = len(index)\n",
    "per_sol = np.eye(12)\n",
    "per_assigned = per_sol[out_index]\n",
    "x = np.array([[0,1],[1,0]])\n",
    "sub_D = D[index][:,index]\n",
    "sub_F = F[index][:,index]\n",
    "sub_left_D = D[index][:] @ per_assigned.T\n",
    "sub_right_D = per_assigned @ D[:,index]\n",
    "sub_left_F = F[index][:,out_index]\n",
    "sub_right_F = F[out_index][:,index]\n",
    "objective = np.sum(sub_F*(x@sub_D@x.T)) # 二次项\n",
    "objective += np.sum(sub_left_F*(x@sub_left_D))\n",
    "objective += np.sum(sub_right_F*(sub_right_D@x.T)) #一次项\n",
    "\n"
   ]
  },
  {
   "cell_type": "code",
   "execution_count": 109,
   "metadata": {},
   "outputs": [
    {
     "data": {
      "text/plain": [
       "11625956.0"
      ]
     },
     "execution_count": 109,
     "metadata": {},
     "output_type": "execute_result"
    }
   ],
   "source": [
    "objective"
   ]
  },
  {
   "cell_type": "code",
   "execution_count": 110,
   "metadata": {},
   "outputs": [
    {
     "data": {
      "text/plain": [
       "97199908.0"
      ]
     },
     "execution_count": 110,
     "metadata": {},
     "output_type": "execute_result"
    }
   ],
   "source": [
    "per_sol[3,5], per_sol[3,3] = per_sol[3,3],per_sol[3,5]\n",
    "per_sol[5,5], per_sol[5,3] = per_sol[5,3],per_sol[5,5]\n",
    "np.sum(F*(per_sol@D@per_sol.T))"
   ]
  },
  {
   "cell_type": "code",
   "execution_count": 111,
   "metadata": {},
   "outputs": [
    {
     "data": {
      "text/plain": [
       "array([[1., 0., 0., 0., 0., 0., 0., 0., 0., 0., 0., 0.],\n",
       "       [0., 1., 0., 0., 0., 0., 0., 0., 0., 0., 0., 0.],\n",
       "       [0., 0., 1., 0., 0., 0., 0., 0., 0., 0., 0., 0.],\n",
       "       [0., 0., 0., 0., 0., 1., 0., 0., 0., 0., 0., 0.],\n",
       "       [0., 0., 0., 0., 1., 0., 0., 0., 0., 0., 0., 0.],\n",
       "       [0., 0., 0., 1., 0., 0., 0., 0., 0., 0., 0., 0.],\n",
       "       [0., 0., 0., 0., 0., 0., 1., 0., 0., 0., 0., 0.],\n",
       "       [0., 0., 0., 0., 0., 0., 0., 1., 0., 0., 0., 0.],\n",
       "       [0., 0., 0., 0., 0., 0., 0., 0., 1., 0., 0., 0.],\n",
       "       [0., 0., 0., 0., 0., 0., 0., 0., 0., 1., 0., 0.],\n",
       "       [0., 0., 0., 0., 0., 0., 0., 0., 0., 0., 1., 0.],\n",
       "       [0., 0., 0., 0., 0., 0., 0., 0., 0., 0., 0., 1.]])"
      ]
     },
     "execution_count": 111,
     "metadata": {},
     "output_type": "execute_result"
    }
   ],
   "source": [
    "per_sol"
   ]
  },
  {
   "cell_type": "code",
   "execution_count": 112,
   "metadata": {},
   "outputs": [
    {
     "data": {
      "text/plain": [
       "85573952.0"
      ]
     },
     "execution_count": 112,
     "metadata": {},
     "output_type": "execute_result"
    }
   ],
   "source": [
    "F_1 = F[out_index][:,out_index]\n",
    "np.sum(F_1*(per_sol[out_index] @ D @ per_sol.T[:,out_index]))"
   ]
  },
  {
   "cell_type": "code",
   "execution_count": 113,
   "metadata": {},
   "outputs": [
    {
     "data": {
      "text/plain": [
       "97199908.0"
      ]
     },
     "execution_count": 113,
     "metadata": {},
     "output_type": "execute_result"
    }
   ],
   "source": [
    "11625956.0+ 85573952.0"
   ]
  },
  {
   "cell_type": "code",
   "execution_count": 124,
   "metadata": {},
   "outputs": [
    {
     "ename": "IndexError",
     "evalue": "list index out of range",
     "output_type": "error",
     "traceback": [
      "\u001b[0;31m---------------------------------------------------------------------------\u001b[0m",
      "\u001b[0;31mIndexError\u001b[0m                                Traceback (most recent call last)",
      "\u001b[0;32m/tmp/ipykernel_23774/3476902960.py\u001b[0m in \u001b[0;36m<module>\u001b[0;34m\u001b[0m\n\u001b[1;32m      1\u001b[0m \u001b[0msub\u001b[0m \u001b[0;34m=\u001b[0m \u001b[0;34m[\u001b[0m\u001b[0;34m[\u001b[0m\u001b[0;36m0\u001b[0m\u001b[0;34m,\u001b[0m \u001b[0;36m4\u001b[0m\u001b[0;34m]\u001b[0m\u001b[0;34m,\u001b[0m \u001b[0;34m[\u001b[0m\u001b[0;36m1\u001b[0m\u001b[0;34m,\u001b[0m \u001b[0;36m1\u001b[0m\u001b[0;34m]\u001b[0m\u001b[0;34m,\u001b[0m \u001b[0;34m[\u001b[0m\u001b[0;36m2\u001b[0m\u001b[0;34m,\u001b[0m \u001b[0;36m0\u001b[0m\u001b[0;34m]\u001b[0m\u001b[0;34m,\u001b[0m \u001b[0;34m[\u001b[0m\u001b[0;36m3\u001b[0m\u001b[0;34m,\u001b[0m \u001b[0;36m3\u001b[0m\u001b[0;34m]\u001b[0m\u001b[0;34m,\u001b[0m \u001b[0;34m[\u001b[0m\u001b[0;36m4\u001b[0m\u001b[0;34m,\u001b[0m \u001b[0;36m2\u001b[0m\u001b[0;34m]\u001b[0m\u001b[0;34m]\u001b[0m\u001b[0;34m\u001b[0m\u001b[0;34m\u001b[0m\u001b[0m\n\u001b[1;32m      2\u001b[0m \u001b[0msol\u001b[0m \u001b[0;34m=\u001b[0m \u001b[0;34m[\u001b[0m\u001b[0;34m[\u001b[0m\u001b[0mi\u001b[0m\u001b[0;34m,\u001b[0m\u001b[0mi\u001b[0m\u001b[0;34m]\u001b[0m \u001b[0;32mfor\u001b[0m \u001b[0mi\u001b[0m \u001b[0;32min\u001b[0m \u001b[0mrange\u001b[0m\u001b[0;34m(\u001b[0m\u001b[0;36m12\u001b[0m\u001b[0;34m)\u001b[0m\u001b[0;34m]\u001b[0m\u001b[0;34m\u001b[0m\u001b[0;34m\u001b[0m\u001b[0m\n\u001b[0;32m----> 3\u001b[0;31m \u001b[0msol_\u001b[0m \u001b[0;34m=\u001b[0m \u001b[0msub2whole\u001b[0m\u001b[0;34m(\u001b[0m\u001b[0msub\u001b[0m\u001b[0;34m,\u001b[0m\u001b[0msol\u001b[0m\u001b[0;34m,\u001b[0m\u001b[0mindex\u001b[0m\u001b[0;34m)\u001b[0m\u001b[0;34m\u001b[0m\u001b[0;34m\u001b[0m\u001b[0m\n\u001b[0m\u001b[1;32m      4\u001b[0m \u001b[0mper\u001b[0m \u001b[0;34m=\u001b[0m \u001b[0mform_per\u001b[0m\u001b[0;34m(\u001b[0m\u001b[0msol_\u001b[0m\u001b[0;34m)\u001b[0m\u001b[0;34m\u001b[0m\u001b[0;34m\u001b[0m\u001b[0m\n",
      "\u001b[0;32m/tmp/ipykernel_23774/907102748.py\u001b[0m in \u001b[0;36msub2whole\u001b[0;34m(sub_sol, sol, index)\u001b[0m\n\u001b[1;32m     30\u001b[0m \u001b[0;34m\u001b[0m\u001b[0m\n\u001b[1;32m     31\u001b[0m     \u001b[0;32mfor\u001b[0m \u001b[0mi\u001b[0m \u001b[0;32min\u001b[0m \u001b[0mrange\u001b[0m\u001b[0;34m(\u001b[0m\u001b[0msub_prob_size\u001b[0m\u001b[0;34m)\u001b[0m\u001b[0;34m:\u001b[0m\u001b[0;34m\u001b[0m\u001b[0;34m\u001b[0m\u001b[0m\n\u001b[0;32m---> 32\u001b[0;31m         \u001b[0msol_out\u001b[0m\u001b[0;34m[\u001b[0m\u001b[0munassigned_flow\u001b[0m\u001b[0;34m[\u001b[0m\u001b[0mi\u001b[0m\u001b[0;34m]\u001b[0m\u001b[0;34m]\u001b[0m\u001b[0;34m[\u001b[0m\u001b[0;36m1\u001b[0m\u001b[0;34m]\u001b[0m \u001b[0;34m=\u001b[0m \u001b[0munassigned_loc\u001b[0m\u001b[0;34m[\u001b[0m\u001b[0msub_sol\u001b[0m\u001b[0;34m[\u001b[0m\u001b[0mi\u001b[0m\u001b[0;34m]\u001b[0m\u001b[0;34m[\u001b[0m\u001b[0;36m1\u001b[0m\u001b[0;34m]\u001b[0m\u001b[0;34m]\u001b[0m\u001b[0;34m\u001b[0m\u001b[0;34m\u001b[0m\u001b[0m\n\u001b[0m\u001b[1;32m     33\u001b[0m \u001b[0;34m\u001b[0m\u001b[0m\n\u001b[1;32m     34\u001b[0m     \u001b[0;32mreturn\u001b[0m \u001b[0msol_out\u001b[0m\u001b[0;34m\u001b[0m\u001b[0;34m\u001b[0m\u001b[0m\n",
      "\u001b[0;31mIndexError\u001b[0m: list index out of range"
     ]
    }
   ],
   "source": [
    "sub = [[0, 4], [1, 1], [2, 0], [3, 3], [4, 2]]\n",
    "sol = [[i,i] for i in range(12)]\n",
    "sol_ = sub2whole(sub,sol,index)\n",
    "per = form_per(sol_)"
   ]
  },
  {
   "cell_type": "code",
   "execution_count": 120,
   "metadata": {},
   "outputs": [
    {
     "data": {
      "text/plain": [
       "97199908.0"
      ]
     },
     "execution_count": 120,
     "metadata": {},
     "output_type": "execute_result"
    }
   ],
   "source": [
    "np.sum(F*(per@D@per.T))"
   ]
  },
  {
   "cell_type": "code",
   "execution_count": 116,
   "metadata": {},
   "outputs": [
    {
     "data": {
      "text/plain": [
       "array([[1., 0., 0., 0., 0., 0., 0., 0., 0., 0., 0., 0.],\n",
       "       [0., 1., 0., 0., 0., 0., 0., 0., 0., 0., 0., 0.],\n",
       "       [0., 0., 1., 0., 0., 0., 0., 0., 0., 0., 0., 0.],\n",
       "       [0., 0., 0., 0., 0., 1., 0., 0., 0., 0., 0., 0.],\n",
       "       [0., 0., 0., 0., 1., 0., 0., 0., 0., 0., 0., 0.],\n",
       "       [0., 0., 0., 0., 0., 1., 0., 0., 0., 0., 0., 0.],\n",
       "       [0., 0., 0., 0., 0., 0., 1., 0., 0., 0., 0., 0.],\n",
       "       [0., 0., 0., 0., 0., 0., 0., 1., 0., 0., 0., 0.],\n",
       "       [0., 0., 0., 0., 0., 0., 0., 0., 1., 0., 0., 0.],\n",
       "       [0., 0., 0., 0., 0., 0., 0., 0., 0., 1., 0., 0.],\n",
       "       [0., 0., 0., 0., 0., 0., 0., 0., 0., 0., 1., 0.],\n",
       "       [0., 0., 0., 0., 0., 0., 0., 0., 0., 0., 0., 1.]])"
      ]
     },
     "execution_count": 116,
     "metadata": {},
     "output_type": "execute_result"
    }
   ],
   "source": [
    "per"
   ]
  },
  {
   "cell_type": "code",
   "execution_count": 125,
   "metadata": {},
   "outputs": [],
   "source": [
    "sub = [[0, 4], [1, 1], [2, 0], [3, 3], [4, 2]]\n"
   ]
  },
  {
   "cell_type": "code",
   "execution_count": 127,
   "metadata": {},
   "outputs": [],
   "source": [
    "row = [i for i ,_ in sub ]\n",
    "col = [i for _, i in sub ]"
   ]
  },
  {
   "cell_type": "code",
   "execution_count": 131,
   "metadata": {},
   "outputs": [
    {
     "data": {
      "text/plain": [
       "array([[1.0000e+00, 0.0000e+00, 0.0000e+00, 1.0000e+00, 5.0000e+00],\n",
       "       [4.0000e+00, 0.0000e+00, 1.0000e+00, 1.0640e+03, 1.4568e+04],\n",
       "       [2.0000e+00, 0.0000e+00, 2.5642e+04, 0.0000e+00, 0.0000e+00],\n",
       "       [0.0000e+00, 0.0000e+00, 2.7000e+01, 0.0000e+00, 6.2000e+01],\n",
       "       [0.0000e+00, 5.7000e+01, 0.0000e+00, 0.0000e+00, 0.0000e+00]],\n",
       "      dtype=float32)"
      ]
     },
     "execution_count": 131,
     "metadata": {},
     "output_type": "execute_result"
    }
   ],
   "source": [
    "D[row][:,col]"
   ]
  },
  {
   "cell_type": "code",
   "execution_count": 6,
   "metadata": {},
   "outputs": [],
   "source": [
    "l = np.array([[1,2,3],[2,3,4],[3,4,5]])"
   ]
  },
  {
   "cell_type": "code",
   "execution_count": 8,
   "metadata": {},
   "outputs": [
    {
     "data": {
      "text/plain": [
       "array([[2, 3, 4],\n",
       "       [1, 2, 3]])"
      ]
     },
     "execution_count": 8,
     "metadata": {},
     "output_type": "execute_result"
    }
   ],
   "source": [
    "l[[1,0]]"
   ]
  },
  {
   "cell_type": "code",
   "execution_count": 100,
   "metadata": {},
   "outputs": [],
   "source": [
    "import networkx as nx\n",
    "import numpy as np\n",
    "\n",
    "N = 20\n"
   ]
  },
  {
   "cell_type": "code",
   "execution_count": 130,
   "metadata": {},
   "outputs": [],
   "source": [
    "weight_F = np.zeros((N, N), dtype=int)\n",
    "weight_D = np.zeros((N, N), dtype=int)\n",
    "\n",
    "for i in range(N-1):\n",
    "    for j in range(i+1,N):\n",
    "        weight_D[i,j] = np.random.randint(0,50)\n",
    "        weight_D[j,i] = weight_D[i,j]\n",
    "        weight_F[i,j] = np.random.randint(0,50)\n",
    "        weight_F[j,i] = weight_F[i,j]"
   ]
  },
  {
   "cell_type": "code",
   "execution_count": 131,
   "metadata": {},
   "outputs": [],
   "source": [
    "p = 0.7\n",
    "G_F = nx.erdos_renyi_graph(N, p)\n",
    "G_D = nx.erdos_renyi_graph(N, p)\n",
    "\n",
    "for i, j in G_F.edges():\n",
    "    G_F[i][j]['weight'] = weight_F[i, j]\n",
    "    \n",
    "for i, j in G_D.edges():\n",
    "    G_D[i][j]['weight'] = weight_D[i, j]"
   ]
  },
  {
   "cell_type": "code",
   "execution_count": 126,
   "metadata": {},
   "outputs": [],
   "source": [
    "weight_F_final = np.zeros((N, N), dtype=int)\n",
    "weight_D_final = np.zeros((N, N), dtype=int)\n",
    "\n",
    "for i,j in G_F.edges():\n",
    "    weight_F_final[i,j] = G_F[i][j]['weight']\n",
    "    weight_F_final[j,i] = weight_F_final[i,j]\n",
    "\n",
    "for i,j in G_D.edges():\n",
    "    weight_D_final[i,j] = G_D[i][j]['weight']\n",
    "    weight_D_final[j,i] = weight_D_final[i,j]"
   ]
  },
  {
   "cell_type": "code",
   "execution_count": 137,
   "metadata": {},
   "outputs": [
    {
     "data": {
      "text/plain": [
       "array([[ 0, 14,  0,  6,  7, 48,  9, 42, 38, 27,  4, 36, 32, 47, 23,  1,\n",
       "        10, 33,  3, 45],\n",
       "       [14,  0, 42, 38, 42, 12,  5, 20, 36,  9,  9, 19, 38,  8, 47, 31,\n",
       "         4,  7,  5, 22],\n",
       "       [ 0, 42,  0,  2, 30, 29,  4,  5, 29, 29,  6, 18, 17, 48, 11, 46,\n",
       "        29, 16, 43, 28],\n",
       "       [ 6, 38,  2,  0, 20, 26, 48, 42,  3, 49, 12,  6, 16,  2, 31,  2,\n",
       "        19, 48,  2, 16],\n",
       "       [ 7, 42, 30, 20,  0, 42,  3,  7, 16, 24, 10, 48, 28, 31, 20, 13,\n",
       "        47, 40,  2,  6],\n",
       "       [48, 12, 29, 26, 42,  0, 29, 21, 14,  5, 46,  0,  7, 34, 37,  3,\n",
       "        42,  3,  1, 22],\n",
       "       [ 9,  5,  4, 48,  3, 29,  0, 15, 10, 12, 15, 35, 27, 41,  6, 14,\n",
       "        38, 26,  8, 29],\n",
       "       [42, 20,  5, 42,  7, 21, 15,  0, 28, 13, 36, 11, 45, 41, 48, 20,\n",
       "        42, 34, 43, 20],\n",
       "       [38, 36, 29,  3, 16, 14, 10, 28,  0, 13, 26,  7, 31, 33, 39, 15,\n",
       "        34, 21, 12, 49],\n",
       "       [27,  9, 29, 49, 24,  5, 12, 13, 13,  0, 33, 35, 39,  3,  2, 11,\n",
       "         5, 14, 39,  9],\n",
       "       [ 4,  9,  6, 12, 10, 46, 15, 36, 26, 33,  0, 32, 20,  6, 23, 32,\n",
       "         8, 28, 11,  5],\n",
       "       [36, 19, 18,  6, 48,  0, 35, 11,  7, 35, 32,  0, 13, 30, 37, 46,\n",
       "        34, 15, 32,  5],\n",
       "       [32, 38, 17, 16, 28,  7, 27, 45, 31, 39, 20, 13,  0,  9, 43, 13,\n",
       "         1, 14, 24, 10],\n",
       "       [47,  8, 48,  2, 31, 34, 41, 41, 33,  3,  6, 30,  9,  0, 28, 17,\n",
       "        19, 14,  0, 41],\n",
       "       [23, 47, 11, 31, 20, 37,  6, 48, 39,  2, 23, 37, 43, 28,  0, 49,\n",
       "         6, 27,  0, 40],\n",
       "       [ 1, 31, 46,  2, 13,  3, 14, 20, 15, 11, 32, 46, 13, 17, 49,  0,\n",
       "        35, 46, 17, 12],\n",
       "       [10,  4, 29, 19, 47, 42, 38, 42, 34,  5,  8, 34,  1, 19,  6, 35,\n",
       "         0, 34, 30,  3],\n",
       "       [33,  7, 16, 48, 40,  3, 26, 34, 21, 14, 28, 15, 14, 14, 27, 46,\n",
       "        34,  0, 18, 39],\n",
       "       [ 3,  5, 43,  2,  2,  1,  8, 43, 12, 39, 11, 32, 24,  0,  0, 17,\n",
       "        30, 18,  0,  0],\n",
       "       [45, 22, 28, 16,  6, 22, 29, 20, 49,  9,  5,  5, 10, 41, 40, 12,\n",
       "         3, 39,  0,  0]])"
      ]
     },
     "execution_count": 137,
     "metadata": {},
     "output_type": "execute_result"
    }
   ],
   "source": [
    "weight_F"
   ]
  },
  {
   "cell_type": "code",
   "execution_count": 142,
   "metadata": {},
   "outputs": [
    {
     "data": {
      "text/plain": [
       "True"
      ]
     },
     "execution_count": 142,
     "metadata": {},
     "output_type": "execute_result"
    }
   ],
   "source": [
    "from pathlib import Path\n",
    "N = 30\n",
    "p = 0.6\n",
    "file_path  = './data/synthetic_data/'\n",
    "file_name = 'erdos'+str(N)+'_'+str(p)\n",
    "Path.exists(Path(file_path))"
   ]
  },
  {
   "cell_type": "code",
   "execution_count": 91,
   "metadata": {},
   "outputs": [],
   "source": [
    "import torch\n",
    "import torch.nn.functional as F\n",
    "from torch.utils.data import Dataset\n",
    "from torchvision import transforms\n",
    "import torch_geometric as pyg\n",
    "import numpy as np\n",
    "from pathlib import Path\n",
    "import random\n",
    "import re\n",
    "import pygmtools as pygm\n",
    "import time\n",
    "import copy\n",
    "\n",
    "# cls_list = ['bur', 'chr', 'els', 'esc', 'had', 'kra', 'lipa', 'nug', 'rou', 'scr', 'sko', 'ste', 'tai', 'tho', 'wil']\n",
    "cls_list = ['tai']\n",
    "class BaseDataset:\n",
    "    def __init__(self):\n",
    "        pass\n",
    "\n",
    "    def get_pair(self, cls, shuffle):\n",
    "        raise NotImplementedError\n",
    "\n",
    "class QAPLIB(BaseDataset):\n",
    "    def __init__(self, sets, cls, fetch_online=False):\n",
    "        super(QAPLIB, self).__init__()\n",
    "        self.classes = ['qaplib']\n",
    "        self.sets = sets\n",
    "\n",
    "        if cls is not None and cls != 'none':\n",
    "            idx = cls_list.index(cls)\n",
    "            self.cls_list = [cls_list[idx]]\n",
    "        else:\n",
    "            self.cls_list = cls_list\n",
    "\n",
    "        self.data_list = []\n",
    "        self.qap_path = Path('./data/taillard125e')\n",
    "        # self.qap_path = Path('./data/qapdata')\n",
    "        for inst in self.cls_list:\n",
    "            for dat_path in self.qap_path.glob(inst + '*.dat'):\n",
    "                name = dat_path.name[:-4]\n",
    "                prob_size = int(re.findall(r\"\\d+\", name)[0])\n",
    "                if (self.sets == 'test' and prob_size > 90) \\\n",
    "                    or (self.sets == 'train' and prob_size > 1000):\n",
    "                    continue\n",
    "                self.data_list.append(name)\n",
    "\n",
    "        # remove trivial instance esc16f\n",
    "        if 'esc16f' in self.data_list:\n",
    "            self.data_list.remove('esc16f')\n",
    "\n",
    "        # define compare function\n",
    "        def name_cmp(a, b):\n",
    "            a = re.findall(r'[0-9]+|[a-z]+', a)\n",
    "            b = re.findall(r'[0-9]+|[a-z]+', b)\n",
    "            for _a, _b in zip(a, b):\n",
    "                if _a.isdigit() and _b.isdigit():\n",
    "                    _a = int(_a)\n",
    "                    _b = int(_b)\n",
    "                cmp = (_a > _b) - (_a < _b)\n",
    "                if cmp != 0:\n",
    "                    return cmp\n",
    "            if len(a) > len(b):\n",
    "                return -1\n",
    "            elif len(a) < len(b):\n",
    "                return 1\n",
    "            else:\n",
    "                return 0\n",
    "\n",
    "        def cmp_to_key(mycmp):\n",
    "            'Convert a cmp= function into a key= function'\n",
    "            class K:\n",
    "                def __init__(self, obj, *args):\n",
    "                    self.obj = obj\n",
    "                def __lt__(self, other):\n",
    "                    return mycmp(self.obj, other.obj) < 0\n",
    "                def __gt__(self, other):\n",
    "                    return mycmp(self.obj, other.obj) > 0\n",
    "                def __eq__(self, other):\n",
    "                    return mycmp(self.obj, other.obj) == 0\n",
    "                def __le__(self, other):\n",
    "                    return mycmp(self.obj, other.obj) <= 0\n",
    "                def __ge__(self, other):\n",
    "                    return mycmp(self.obj, other.obj) >= 0\n",
    "                def __ne__(self, other):\n",
    "                    return mycmp(self.obj, other.obj) != 0\n",
    "            return K\n",
    "\n",
    "        # sort data list according to the names\n",
    "        self.data_list.sort(key=cmp_to_key(name_cmp))\n",
    "\n",
    "    def __len__(self):\n",
    "        return len(self.data_list)\n",
    "    \n",
    "    def get_pair(self, idx, shuffle=None):\n",
    "        \"\"\"\n",
    "        Get QAP data by index\n",
    "        :param idx: dataset index\n",
    "        :param shuffle: no use here\n",
    "        :return: (pair of data, groundtruth permutation matrix)\n",
    "        \"\"\"\n",
    "        name = self.data_list[idx]\n",
    "\n",
    "        dat_path = self.qap_path / (name + '.dat')\n",
    "        if Path.exists(self.qap_path / (name + '.sln')):\n",
    "            sln_path = self.qap_path / (name + '.sln')\n",
    "            sln_file = sln_path.open()\n",
    "        else:\n",
    "            sln_file = None\n",
    "        dat_file = dat_path.open()\n",
    "        \n",
    "\n",
    "        def split_line(x):\n",
    "            for _ in re.split(r'[,\\s]', x.rstrip('\\n')):\n",
    "                if _ == \"\":\n",
    "                    continue\n",
    "                else:\n",
    "                    yield int(_)\n",
    "\n",
    "        dat_list = [[_ for _ in split_line(line)] for line in dat_file]\n",
    "        if sln_file != None:\n",
    "            sln_list = [[_ for _ in split_line(line)] for line in sln_file]\n",
    "        else:\n",
    "            sln_list = None\n",
    "\n",
    "        prob_size = dat_list[0][0]\n",
    "\n",
    "        # read data\n",
    "        r = 0\n",
    "        c = 0\n",
    "        Fi = [[]]\n",
    "        Fj = [[]]\n",
    "        F = Fi\n",
    "        for l in dat_list[1:]:\n",
    "            F[r] += l\n",
    "            c += len(l)\n",
    "            assert c <= prob_size\n",
    "            if c == prob_size:\n",
    "                r += 1\n",
    "                if r < prob_size:\n",
    "                    F.append([])\n",
    "                    c = 0\n",
    "                else:\n",
    "                    F = Fj\n",
    "                    r = 0\n",
    "                    c = 0\n",
    "        Fi = np.array(Fi, dtype=np.float32)\n",
    "        Fj = np.array(Fj, dtype=np.float32)\n",
    "        assert Fi.shape == Fj.shape == (prob_size, prob_size)\n",
    "        #K = np.kron(Fj, Fi)\n",
    "\n",
    "        # read solution\n",
    "        if sln_list != None:\n",
    "            sol = sln_list[0][1]\n",
    "            obj = sln_list[0][-1]\n",
    "            perm_list = []\n",
    "            for _ in sln_list[1:]:\n",
    "                perm_list += _\n",
    "            assert len(perm_list) == prob_size\n",
    "            perm_mat = np.zeros((prob_size, prob_size), dtype=np.float32)\n",
    "            for r, c in enumerate(perm_list):\n",
    "                perm_mat[r, c - 1] = 1\n",
    "\n",
    "            return Fi, Fj, perm_mat, sol, name,obj\n",
    "        else:\n",
    "            return Fi,Fj,None, None ,name, None\n",
    "    "
   ]
  },
  {
   "cell_type": "code",
   "execution_count": 92,
   "metadata": {},
   "outputs": [],
   "source": [
    "train_set = QAPLIB('train','tai')\n",
    "\n",
    "gurobi_interm_obj = []\n",
    "gurobi_interm_time = []\n",
    "from gurobipy import Model,GRB,quicksum\n",
    "import os"
   ]
  },
  {
   "cell_type": "code",
   "execution_count": 93,
   "metadata": {},
   "outputs": [],
   "source": [
    "f_Z = []\n",
    "d_z = []\n",
    "f_max = []\n",
    "d_max = []\n",
    "for i in range(20):\n",
    "    F,D,per,sol,name, opt_obj = train_set.get_pair(i)\n",
    "    zero_num = np.where(F,0,1).sum()\n",
    "    f_Z.append(zero_num/(F.shape[0]*F.shape[1]))\n",
    "    zero_num = np.where(D,0,1).sum()\n",
    "    d_z.append(zero_num/(D.shape[0]*D.shape[1]))\n",
    "    f_max.append(F.max())\n",
    "    d_max.append(D.max())"
   ]
  },
  {
   "cell_type": "code",
   "execution_count": 136,
   "metadata": {},
   "outputs": [
    {
     "data": {
      "text/plain": [
       "-38.0"
      ]
     },
     "execution_count": 136,
     "metadata": {},
     "output_type": "execute_result"
    }
   ],
   "source": [
    "D[1,2] + D[2,6] - D[1,6]"
   ]
  },
  {
   "cell_type": "code",
   "execution_count": 94,
   "metadata": {},
   "outputs": [
    {
     "data": {
      "text/plain": [
       "[0.46624,\n",
       " 0.467008,\n",
       " 0.470464,\n",
       " 0.467776,\n",
       " 0.465728,\n",
       " 0.465984,\n",
       " 0.46944,\n",
       " 0.467776,\n",
       " 0.46688,\n",
       " 0.466624,\n",
       " 0.46944,\n",
       " 0.469312,\n",
       " 0.466624,\n",
       " 0.469568,\n",
       " 0.46752,\n",
       " 0.46816,\n",
       " 0.467008,\n",
       " 0.465728,\n",
       " 0.467776,\n",
       " 0.468032]"
      ]
     },
     "execution_count": 94,
     "metadata": {},
     "output_type": "execute_result"
    }
   ],
   "source": [
    "f_Z"
   ]
  },
  {
   "cell_type": "code",
   "execution_count": 95,
   "metadata": {},
   "outputs": [
    {
     "data": {
      "text/plain": [
       "[0.463552,\n",
       " 0.46304,\n",
       " 0.466496,\n",
       " 0.466112,\n",
       " 0.462144,\n",
       " 0.466112,\n",
       " 0.466624,\n",
       " 0.464064,\n",
       " 0.464192,\n",
       " 0.4624,\n",
       " 0.464576,\n",
       " 0.465088,\n",
       " 0.46688,\n",
       " 0.468288,\n",
       " 0.466624,\n",
       " 0.466624,\n",
       " 0.46368,\n",
       " 0.464832,\n",
       " 0.465856,\n",
       " 0.469184]"
      ]
     },
     "execution_count": 95,
     "metadata": {},
     "output_type": "execute_result"
    }
   ],
   "source": [
    "d_z"
   ]
  },
  {
   "cell_type": "code",
   "execution_count": 96,
   "metadata": {},
   "outputs": [
    {
     "data": {
      "text/plain": [
       "[41.0,\n",
       " 40.0,\n",
       " 41.0,\n",
       " 38.0,\n",
       " 41.0,\n",
       " 41.0,\n",
       " 41.0,\n",
       " 39.0,\n",
       " 39.0,\n",
       " 40.0,\n",
       " 40.0,\n",
       " 39.0,\n",
       " 40.0,\n",
       " 39.0,\n",
       " 40.0,\n",
       " 41.0,\n",
       " 40.0,\n",
       " 41.0,\n",
       " 38.0,\n",
       " 41.0]"
      ]
     },
     "execution_count": 96,
     "metadata": {},
     "output_type": "execute_result"
    }
   ],
   "source": [
    "f_max"
   ]
  },
  {
   "cell_type": "code",
   "execution_count": 97,
   "metadata": {},
   "outputs": [
    {
     "data": {
      "text/plain": [
       "[41.0,\n",
       " 40.0,\n",
       " 41.0,\n",
       " 38.0,\n",
       " 41.0,\n",
       " 41.0,\n",
       " 41.0,\n",
       " 39.0,\n",
       " 39.0,\n",
       " 40.0,\n",
       " 40.0,\n",
       " 39.0,\n",
       " 40.0,\n",
       " 39.0,\n",
       " 40.0,\n",
       " 41.0,\n",
       " 40.0,\n",
       " 41.0,\n",
       " 38.0,\n",
       " 41.0]"
      ]
     },
     "execution_count": 97,
     "metadata": {},
     "output_type": "execute_result"
    }
   ],
   "source": [
    "d_max"
   ]
  },
  {
   "cell_type": "code",
   "execution_count": 98,
   "metadata": {},
   "outputs": [
    {
     "data": {
      "text/plain": [
       "True"
      ]
     },
     "execution_count": 98,
     "metadata": {},
     "output_type": "execute_result"
    }
   ],
   "source": [
    "f_max == d_max"
   ]
  },
  {
   "cell_type": "code",
   "execution_count": 143,
   "metadata": {},
   "outputs": [],
   "source": [
    "sol = [1,2,3]"
   ]
  },
  {
   "cell_type": "code",
   "execution_count": 144,
   "metadata": {},
   "outputs": [
    {
     "data": {
      "text/plain": [
       "'[1, 2, 3]'"
      ]
     },
     "execution_count": 144,
     "metadata": {},
     "output_type": "execute_result"
    }
   ],
   "source": [
    "str(sol)"
   ]
  },
  {
   "cell_type": "code",
   "execution_count": 192,
   "metadata": {},
   "outputs": [],
   "source": [
    "import torch\n",
    "import torch.nn.functional as F\n",
    "from torch.utils.data import Dataset\n",
    "from torchvision import transforms\n",
    "import torch_geometric as pyg\n",
    "import numpy as np\n",
    "from pathlib import Path\n",
    "import random\n",
    "import re\n",
    "import pygmtools as pygm\n",
    "import time\n",
    "import copy\n",
    "\n",
    "# cls_list = ['bur', 'chr', 'els', 'esc', 'had', 'kra', 'lipa', 'nug', 'rou', 'scr', 'sko', 'ste', 'tai', 'tho', 'wil']\n",
    "cls_list = ['erdos']\n",
    "class BaseDataset:\n",
    "    def __init__(self):\n",
    "        pass\n",
    "\n",
    "    def get_pair(self, cls, shuffle):\n",
    "        raise NotImplementedError\n",
    "\n",
    "class QAPLIB(BaseDataset):\n",
    "    def __init__(self, sets, cls, fetch_online=False):\n",
    "        super(QAPLIB, self).__init__()\n",
    "        self.classes = ['qaplib']\n",
    "        self.sets = sets\n",
    "\n",
    "        if cls is not None and cls != 'none':\n",
    "            idx = cls_list.index(cls)\n",
    "            self.cls_list = [cls_list[idx]]\n",
    "        else:\n",
    "            self.cls_list = cls_list\n",
    "\n",
    "        self.data_list = []\n",
    "        self.qap_path = Path('./data/synthetic_data/erdos30_0.6/train')\n",
    "        # self.qap_path = Path('./data/qapdata')\n",
    "        for inst in self.cls_list:\n",
    "            for dat_path in self.qap_path.glob(inst + '*.dat'):\n",
    "                name = dat_path.name[:-4]\n",
    "                prob_size = int(re.findall(r\"\\d+\", name)[0])\n",
    "                if (self.sets == 'test' and prob_size > 90) \\\n",
    "                    or (self.sets == 'train' and prob_size > 1000):\n",
    "                    continue\n",
    "                self.data_list.append(name)\n",
    "\n",
    "        # remove trivial instance esc16f\n",
    "        if 'esc16f' in self.data_list:\n",
    "            self.data_list.remove('esc16f')\n",
    "\n",
    "        # define compare function\n",
    "        def name_cmp(a, b):\n",
    "            a = re.findall(r'[0-9]+|[a-z]+', a)\n",
    "            b = re.findall(r'[0-9]+|[a-z]+', b)\n",
    "            for _a, _b in zip(a, b):\n",
    "                if _a.isdigit() and _b.isdigit():\n",
    "                    _a = int(_a)\n",
    "                    _b = int(_b)\n",
    "                cmp = (_a > _b) - (_a < _b)\n",
    "                if cmp != 0:\n",
    "                    return cmp\n",
    "            if len(a) > len(b):\n",
    "                return -1\n",
    "            elif len(a) < len(b):\n",
    "                return 1\n",
    "            else:\n",
    "                return 0\n",
    "\n",
    "        def cmp_to_key(mycmp):\n",
    "            'Convert a cmp= function into a key= function'\n",
    "            class K:\n",
    "                def __init__(self, obj, *args):\n",
    "                    self.obj = obj\n",
    "                def __lt__(self, other):\n",
    "                    return mycmp(self.obj, other.obj) < 0\n",
    "                def __gt__(self, other):\n",
    "                    return mycmp(self.obj, other.obj) > 0\n",
    "                def __eq__(self, other):\n",
    "                    return mycmp(self.obj, other.obj) == 0\n",
    "                def __le__(self, other):\n",
    "                    return mycmp(self.obj, other.obj) <= 0\n",
    "                def __ge__(self, other):\n",
    "                    return mycmp(self.obj, other.obj) >= 0\n",
    "                def __ne__(self, other):\n",
    "                    return mycmp(self.obj, other.obj) != 0\n",
    "            return K\n",
    "\n",
    "        # sort data list according to the names\n",
    "        self.data_list.sort(key=cmp_to_key(name_cmp))\n",
    "\n",
    "    def __len__(self):\n",
    "        return len(self.data_list)\n",
    "    \n",
    "    def get_pair(self, idx, shuffle=None):\n",
    "        \"\"\"\n",
    "        Get QAP data by index\n",
    "        :param idx: dataset index\n",
    "        :param shuffle: no use here\n",
    "        :return: (pair of data, groundtruth permutation matrix)\n",
    "        \"\"\"\n",
    "        name = self.data_list[idx]\n",
    "\n",
    "        dat_path = self.qap_path / (name + '.dat')\n",
    "        if Path.exists(self.qap_path / (name + '.sln')):\n",
    "            sln_path = self.qap_path / (name + '_random_init_random_LNS.sln')\n",
    "            sln_file = sln_path.open()\n",
    "        else:\n",
    "            sln_file = None\n",
    "        dat_file = dat_path.open()\n",
    "        \n",
    "\n",
    "        def split_line(x):\n",
    "            for _ in re.split(r'[,\\s]', x.rstrip('\\n')):\n",
    "                if _ == \"\":\n",
    "                    continue\n",
    "                else:\n",
    "                    yield int(_)\n",
    "\n",
    "        dat_list = [[_ for _ in split_line(line)] for line in dat_file]\n",
    "        if sln_file != None:\n",
    "            sln_list = [[_ for _ in line] for line in sln_file]\n",
    "        else:\n",
    "            sln_list = None\n",
    "\n",
    "        prob_size = dat_list[0][0]\n",
    "\n",
    "        # read data\n",
    "        r = 0\n",
    "        c = 0\n",
    "        Fi = [[]]\n",
    "        Fj = [[]]\n",
    "        F = Fi\n",
    "        for l in dat_list[1:]:\n",
    "            F[r] += l\n",
    "            c += len(l)\n",
    "            assert c <= prob_size\n",
    "            if c == prob_size:\n",
    "                r += 1\n",
    "                if r < prob_size:\n",
    "                    F.append([])\n",
    "                    c = 0\n",
    "                else:\n",
    "                    F = Fj\n",
    "                    r = 0\n",
    "                    c = 0\n",
    "        Fi = np.array(Fi, dtype=np.float32)\n",
    "        Fj = np.array(Fj, dtype=np.float32)\n",
    "        assert Fi.shape == Fj.shape == (prob_size, prob_size)\n",
    "        #K = np.kron(Fj, Fi)\n",
    "\n",
    "        # read solution\n",
    "        if sln_list != None:\n",
    "            # import pdb; pdb.set_trace()\n",
    "            sol = sln_list[0][1]\n",
    "            obj = sln_list[0][-1]\n",
    "            perm_list = []\n",
    "            for _ in sln_list[1:]:\n",
    "                perm_list += _\n",
    "            assert len(perm_list) == prob_size\n",
    "            perm_mat = np.zeros((prob_size, prob_size), dtype=np.float32)\n",
    "            for r, c in enumerate(perm_list):\n",
    "                perm_mat[r, c - 1] = 1\n",
    "\n",
    "            return Fi, Fj, perm_mat, sol, name,obj\n",
    "        else:\n",
    "            return Fi,Fj,None, None ,name, None\n",
    "        \n",
    "class QAPDataset(Dataset):\n",
    "    def __init__(self, name, length, cls=None, **args):\n",
    "        self.name = name\n",
    "        self.ds = eval(self.name)(**args, cls=cls)\n",
    "        self.classes = self.ds.classes\n",
    "        self.cls = None if cls == 'none' else cls\n",
    "        self.length = length\n",
    "\n",
    "    def __len__(self):\n",
    "        #return len(self.ds.data_list)\n",
    "        return self.length\n",
    "\n",
    "    def __getitem__(self, idx):\n",
    "        Fi, Fj, perm_mat, sol, name, obj = self.ds.get_pair(idx % len(self.ds.data_list))\n",
    "\n",
    "        #if np.max(ori_aff_mat) > 0:\n",
    "        #    norm_aff_mat = ori_aff_mat / np.mean(ori_aff_mat)\n",
    "        #else:\n",
    "        #    norm_aff_mat = ori_aff_mat\n",
    "\n",
    "        ret_dict = {'Fi': Fi,\n",
    "                    'Fj': Fj,\n",
    "                    'name': name}\n",
    "\n",
    "        return ret_dict"
   ]
  },
  {
   "cell_type": "code",
   "execution_count": 193,
   "metadata": {},
   "outputs": [],
   "source": [
    "train_dataset = QAPDataset('QAPLIB',\n",
    "                      900,\n",
    "                      sets='train',\n",
    "                      fetch_online=False)"
   ]
  },
  {
   "cell_type": "code",
   "execution_count": 194,
   "metadata": {},
   "outputs": [],
   "source": [
    "# def collate_fn(data: list):\n",
    "#     \"\"\"\n",
    "#     Create mini-batch data for training.\n",
    "#     :param data: data dict\n",
    "#     :return: mini-batch\n",
    "#     \"\"\"\n",
    "#     def pad_tensor(inp):\n",
    "#         assert type(inp[0]) == torch.Tensor\n",
    "#         it = iter(inp)\n",
    "#         t = next(it)\n",
    "#         max_shape = list(t.shape)\n",
    "#         while True:\n",
    "#             try:\n",
    "#                 t = next(it)\n",
    "#                 for i in range(len(max_shape)):\n",
    "#                     max_shape[i] = int(max(max_shape[i], t.shape[i]))\n",
    "#             except StopIteration:\n",
    "#                 break\n",
    "#         max_shape = np.array(max_shape)\n",
    "\n",
    "#         padded_ts = []\n",
    "#         for t in inp:\n",
    "#             pad_pattern = np.zeros(2 * len(max_shape), dtype=np.int64)\n",
    "#             pad_pattern[::-2] = max_shape - np.array(t.shape)\n",
    "#             #pad_pattern = torch.from_numpy(np.asfortranarray(pad_pattern))\n",
    "#             pad_pattern = tuple(pad_pattern.tolist())\n",
    "#             padded_ts.append(F.pad(t, pad_pattern, 'constant', 0))\n",
    "\n",
    "#         return padded_ts\n",
    "\n",
    "#     def stack(inp):\n",
    "#         if type(inp[0]) == list:\n",
    "#             ret = []\n",
    "#             for vs in zip(*inp):\n",
    "#                 ret.append(stack(vs))\n",
    "#         elif type(inp[0]) == dict:\n",
    "#             ret = {}\n",
    "#             for kvs in zip(*[x.items() for x in inp]):\n",
    "#                 ks, vs = zip(*kvs)\n",
    "#                 for k in ks:\n",
    "#                     assert k == ks[0], \"Keys mismatch.\"\n",
    "#                 ret[k] = stack(vs)\n",
    "#         elif type(inp[0]) == torch.Tensor:\n",
    "#             new_t = pad_tensor(inp)\n",
    "#             ret = torch.stack(new_t, 0)\n",
    "#         elif type(inp[0]) == np.ndarray:\n",
    "#             new_t = pad_tensor([torch.from_numpy(x) for x in inp])\n",
    "#             ret = torch.stack(new_t, 0)\n",
    "#         elif type(inp[0]) == pyg.data.Data:\n",
    "#             ret = pyg.data.Batch.from_data_list(inp)\n",
    "#         elif type(inp[0]) == str:\n",
    "#             ret = inp\n",
    "#         elif type(inp[0]) == tuple:\n",
    "#             ret = inp\n",
    "\n",
    "#         else:\n",
    "#             raise ValueError('Cannot handle type {}'.format(type(inp[0])))\n",
    "#         return ret\n",
    "\n",
    "#     ret = stack(data)\n",
    "\n",
    "#     ret['batch_size'] = len(data)\n",
    "#     ret['univ_size'] = torch.tensor([max(*[item[b] for item in ret['univ_size']]) for b in range(ret['batch_size'])])\n",
    "\n",
    "#     for v in ret.values():\n",
    "#         if type(v) is list:\n",
    "#             ret['num_graphs'] = len(v)\n",
    "#             break\n",
    "\n",
    "#     return ret\n",
    "\n",
    "def worker_init_fix(worker_id):\n",
    "    \"\"\"\n",
    "    Init dataloader workers with fixed seed.\n",
    "    \"\"\"\n",
    "    random.seed(123 + worker_id)\n",
    "    np.random.seed(123  + worker_id)\n",
    "\n",
    "\n",
    "def worker_init_rand(worker_id):\n",
    "    \"\"\"\n",
    "    Init dataloader workers with torch.initial_seed().\n",
    "    torch.initial_seed() returns different seeds when called from different dataloader threads.\n",
    "    \"\"\"\n",
    "    random.seed(torch.initial_seed())\n",
    "    np.random.seed(torch.initial_seed() % 2 ** 32)\n",
    "\n",
    "\n",
    "def get_dataloader(dataset, fix_seed=True, shuffle=False):\n",
    "    return torch.utils.data.DataLoader(\n",
    "        dataset, batch_size=32, shuffle=shuffle, num_workers= 1,\n",
    "        pin_memory=False, worker_init_fn=worker_init_fix if fix_seed else worker_init_rand\n",
    "    )"
   ]
  },
  {
   "cell_type": "code",
   "execution_count": 195,
   "metadata": {},
   "outputs": [],
   "source": [
    "train_dataloader = get_dataloader(train_dataset)"
   ]
  },
  {
   "cell_type": "code",
   "execution_count": 199,
   "metadata": {},
   "outputs": [
    {
     "data": {
      "text/plain": [
       "900"
      ]
     },
     "execution_count": 199,
     "metadata": {},
     "output_type": "execute_result"
    }
   ],
   "source": [
    "len(train_dataloader.dataset)"
   ]
  },
  {
   "cell_type": "code",
   "execution_count": 212,
   "metadata": {},
   "outputs": [
    {
     "ename": "ValueError",
     "evalue": "Found array with dim 3. Estimator expected <= 2.",
     "output_type": "error",
     "traceback": [
      "\u001b[0;31m---------------------------------------------------------------------------\u001b[0m",
      "\u001b[0;31mValueError\u001b[0m                                Traceback (most recent call last)",
      "\u001b[0;32m/tmp/ipykernel_22497/323535005.py\u001b[0m in \u001b[0;36m<module>\u001b[0;34m\u001b[0m\n\u001b[1;32m      1\u001b[0m \u001b[0;32mfor\u001b[0m \u001b[0mdata\u001b[0m \u001b[0;32min\u001b[0m \u001b[0mtrain_dataloader\u001b[0m\u001b[0;34m:\u001b[0m\u001b[0;34m\u001b[0m\u001b[0;34m\u001b[0m\u001b[0m\n\u001b[0;32m----> 2\u001b[0;31m     \u001b[0mgraph\u001b[0m \u001b[0;34m=\u001b[0m \u001b[0mpca\u001b[0m\u001b[0;34m.\u001b[0m\u001b[0mfit_transform\u001b[0m\u001b[0;34m(\u001b[0m\u001b[0mdata\u001b[0m\u001b[0;34m[\u001b[0m\u001b[0;34m'Fi'\u001b[0m\u001b[0;34m]\u001b[0m\u001b[0;34m)\u001b[0m\u001b[0;34m\u001b[0m\u001b[0;34m\u001b[0m\u001b[0m\n\u001b[0m\u001b[1;32m      3\u001b[0m     \u001b[0;32mbreak\u001b[0m\u001b[0;34m\u001b[0m\u001b[0;34m\u001b[0m\u001b[0m\n",
      "\u001b[0;32m~/anaconda3/envs/ThinkMatch/lib/python3.7/site-packages/sklearn/decomposition/_pca.py\u001b[0m in \u001b[0;36mfit_transform\u001b[0;34m(self, X, y)\u001b[0m\n\u001b[1;32m    405\u001b[0m         \u001b[0mC\u001b[0m\u001b[0;34m-\u001b[0m\u001b[0mordered\u001b[0m \u001b[0marray\u001b[0m\u001b[0;34m,\u001b[0m \u001b[0muse\u001b[0m \u001b[0;34m'np.ascontiguousarray'\u001b[0m\u001b[0;34m.\u001b[0m\u001b[0;34m\u001b[0m\u001b[0;34m\u001b[0m\u001b[0m\n\u001b[1;32m    406\u001b[0m         \"\"\"\n\u001b[0;32m--> 407\u001b[0;31m         \u001b[0mU\u001b[0m\u001b[0;34m,\u001b[0m \u001b[0mS\u001b[0m\u001b[0;34m,\u001b[0m \u001b[0mVt\u001b[0m \u001b[0;34m=\u001b[0m \u001b[0mself\u001b[0m\u001b[0;34m.\u001b[0m\u001b[0m_fit\u001b[0m\u001b[0;34m(\u001b[0m\u001b[0mX\u001b[0m\u001b[0;34m)\u001b[0m\u001b[0;34m\u001b[0m\u001b[0;34m\u001b[0m\u001b[0m\n\u001b[0m\u001b[1;32m    408\u001b[0m         \u001b[0mU\u001b[0m \u001b[0;34m=\u001b[0m \u001b[0mU\u001b[0m\u001b[0;34m[\u001b[0m\u001b[0;34m:\u001b[0m\u001b[0;34m,\u001b[0m \u001b[0;34m:\u001b[0m \u001b[0mself\u001b[0m\u001b[0;34m.\u001b[0m\u001b[0mn_components_\u001b[0m\u001b[0;34m]\u001b[0m\u001b[0;34m\u001b[0m\u001b[0;34m\u001b[0m\u001b[0m\n\u001b[1;32m    409\u001b[0m \u001b[0;34m\u001b[0m\u001b[0m\n",
      "\u001b[0;32m~/anaconda3/envs/ThinkMatch/lib/python3.7/site-packages/sklearn/decomposition/_pca.py\u001b[0m in \u001b[0;36m_fit\u001b[0;34m(self, X)\u001b[0m\n\u001b[1;32m    429\u001b[0m \u001b[0;34m\u001b[0m\u001b[0m\n\u001b[1;32m    430\u001b[0m         X = self._validate_data(\n\u001b[0;32m--> 431\u001b[0;31m             \u001b[0mX\u001b[0m\u001b[0;34m,\u001b[0m \u001b[0mdtype\u001b[0m\u001b[0;34m=\u001b[0m\u001b[0;34m[\u001b[0m\u001b[0mnp\u001b[0m\u001b[0;34m.\u001b[0m\u001b[0mfloat64\u001b[0m\u001b[0;34m,\u001b[0m \u001b[0mnp\u001b[0m\u001b[0;34m.\u001b[0m\u001b[0mfloat32\u001b[0m\u001b[0;34m]\u001b[0m\u001b[0;34m,\u001b[0m \u001b[0mensure_2d\u001b[0m\u001b[0;34m=\u001b[0m\u001b[0;32mTrue\u001b[0m\u001b[0;34m,\u001b[0m \u001b[0mcopy\u001b[0m\u001b[0;34m=\u001b[0m\u001b[0mself\u001b[0m\u001b[0;34m.\u001b[0m\u001b[0mcopy\u001b[0m\u001b[0;34m\u001b[0m\u001b[0;34m\u001b[0m\u001b[0m\n\u001b[0m\u001b[1;32m    432\u001b[0m         )\n\u001b[1;32m    433\u001b[0m \u001b[0;34m\u001b[0m\u001b[0m\n",
      "\u001b[0;32m~/anaconda3/envs/ThinkMatch/lib/python3.7/site-packages/sklearn/base.py\u001b[0m in \u001b[0;36m_validate_data\u001b[0;34m(self, X, y, reset, validate_separately, **check_params)\u001b[0m\n\u001b[1;32m    564\u001b[0m             \u001b[0;32mraise\u001b[0m \u001b[0mValueError\u001b[0m\u001b[0;34m(\u001b[0m\u001b[0;34m\"Validation should be done on X, y or both.\"\u001b[0m\u001b[0;34m)\u001b[0m\u001b[0;34m\u001b[0m\u001b[0;34m\u001b[0m\u001b[0m\n\u001b[1;32m    565\u001b[0m         \u001b[0;32melif\u001b[0m \u001b[0;32mnot\u001b[0m \u001b[0mno_val_X\u001b[0m \u001b[0;32mand\u001b[0m \u001b[0mno_val_y\u001b[0m\u001b[0;34m:\u001b[0m\u001b[0;34m\u001b[0m\u001b[0;34m\u001b[0m\u001b[0m\n\u001b[0;32m--> 566\u001b[0;31m             \u001b[0mX\u001b[0m \u001b[0;34m=\u001b[0m \u001b[0mcheck_array\u001b[0m\u001b[0;34m(\u001b[0m\u001b[0mX\u001b[0m\u001b[0;34m,\u001b[0m \u001b[0;34m**\u001b[0m\u001b[0mcheck_params\u001b[0m\u001b[0;34m)\u001b[0m\u001b[0;34m\u001b[0m\u001b[0;34m\u001b[0m\u001b[0m\n\u001b[0m\u001b[1;32m    567\u001b[0m             \u001b[0mout\u001b[0m \u001b[0;34m=\u001b[0m \u001b[0mX\u001b[0m\u001b[0;34m\u001b[0m\u001b[0;34m\u001b[0m\u001b[0m\n\u001b[1;32m    568\u001b[0m         \u001b[0;32melif\u001b[0m \u001b[0mno_val_X\u001b[0m \u001b[0;32mand\u001b[0m \u001b[0;32mnot\u001b[0m \u001b[0mno_val_y\u001b[0m\u001b[0;34m:\u001b[0m\u001b[0;34m\u001b[0m\u001b[0;34m\u001b[0m\u001b[0m\n",
      "\u001b[0;32m~/anaconda3/envs/ThinkMatch/lib/python3.7/site-packages/sklearn/utils/validation.py\u001b[0m in \u001b[0;36mcheck_array\u001b[0;34m(array, accept_sparse, accept_large_sparse, dtype, order, copy, force_all_finite, ensure_2d, allow_nd, ensure_min_samples, ensure_min_features, estimator)\u001b[0m\n\u001b[1;32m    794\u001b[0m             raise ValueError(\n\u001b[1;32m    795\u001b[0m                 \u001b[0;34m\"Found array with dim %d. %s expected <= 2.\"\u001b[0m\u001b[0;34m\u001b[0m\u001b[0;34m\u001b[0m\u001b[0m\n\u001b[0;32m--> 796\u001b[0;31m                 \u001b[0;34m%\u001b[0m \u001b[0;34m(\u001b[0m\u001b[0marray\u001b[0m\u001b[0;34m.\u001b[0m\u001b[0mndim\u001b[0m\u001b[0;34m,\u001b[0m \u001b[0mestimator_name\u001b[0m\u001b[0;34m)\u001b[0m\u001b[0;34m\u001b[0m\u001b[0;34m\u001b[0m\u001b[0m\n\u001b[0m\u001b[1;32m    797\u001b[0m             )\n\u001b[1;32m    798\u001b[0m \u001b[0;34m\u001b[0m\u001b[0m\n",
      "\u001b[0;31mValueError\u001b[0m: Found array with dim 3. Estimator expected <= 2."
     ]
    }
   ],
   "source": [
    "for data in train_dataloader:\n",
    "    graph = pca.fit_transform(data['Fi'])\n",
    "    break"
   ]
  },
  {
   "cell_type": "code",
   "execution_count": 201,
   "metadata": {},
   "outputs": [],
   "source": [
    "train_set = QAPLIB('train','erdos')"
   ]
  },
  {
   "cell_type": "code",
   "execution_count": 202,
   "metadata": {},
   "outputs": [],
   "source": [
    "F,D,per,sol,name, opt_obj = train_set.get_pair(0)"
   ]
  },
  {
   "cell_type": "code",
   "execution_count": 206,
   "metadata": {},
   "outputs": [],
   "source": [
    "from sklearn.decomposition import PCA\n"
   ]
  },
  {
   "cell_type": "code",
   "execution_count": 213,
   "metadata": {},
   "outputs": [],
   "source": [
    "F = torch.tensor(F)\n",
    "pca = PCA(n_components=15)\n",
    "pca_feature = pca.fit_transform(F)"
   ]
  },
  {
   "cell_type": "code",
   "execution_count": 214,
   "metadata": {},
   "outputs": [
    {
     "data": {
      "text/plain": [
       "array([[ 2.64698094e+01, -3.30236694e+01,  5.77796043e+00,\n",
       "         1.42000733e+01, -7.99094233e+00, -1.12652827e+01,\n",
       "        -4.67188244e+01,  2.52575665e+00, -3.53172200e+01,\n",
       "         6.81274347e-01, -1.68525520e+01,  6.50109516e+00,\n",
       "        -4.47280890e+00,  1.25519051e+01, -8.87448688e+00],\n",
       "       [ 2.55521569e+00, -7.40967503e+00,  3.81251653e+01,\n",
       "         1.86595997e+01,  1.80018982e+01, -1.80497523e+01,\n",
       "         3.69042180e+00,  3.21929196e+01,  2.05341947e+01,\n",
       "         1.11735521e+01, -3.11800400e+00, -3.79765443e+00,\n",
       "         1.17167575e+00,  3.15294068e+00,  1.21316301e+01],\n",
       "       [ 3.54045172e+01, -2.53137923e+01, -1.15195956e+00,\n",
       "        -2.83957257e+01, -9.34843644e+00,  7.90467601e+00,\n",
       "         2.33045879e+01, -2.00255724e+01,  2.75807081e+01,\n",
       "        -7.54224669e+00,  1.33696851e+01,  1.72440736e+01,\n",
       "         4.01007941e+01, -1.33719322e+01, -1.81444861e+01],\n",
       "       [-6.45713569e+00, -9.45443125e+00,  2.85796796e+01,\n",
       "         8.28683344e+00, -7.29686799e+00, -8.00921757e+00,\n",
       "         6.30165225e+01,  1.47445832e+01, -1.03014032e+01,\n",
       "        -1.05590046e+01,  1.68376776e+00,  6.26494650e+00,\n",
       "         9.50856561e+00, -8.66631072e+00,  2.24934042e+01],\n",
       "       [ 2.73408233e+00,  5.64487475e+01, -1.69032831e+01,\n",
       "         4.24453211e+00,  1.65019263e+01,  2.77283256e+01,\n",
       "        -6.68615914e+00,  2.50381268e+01, -1.31402237e+01,\n",
       "        -1.10842722e+01, -2.28463710e+00,  1.10512500e+01,\n",
       "         2.38746539e+00, -1.98987075e+01,  5.49022250e+00],\n",
       "       [ 3.92280823e+01,  2.07949204e+01,  5.47251519e+01,\n",
       "         2.90403651e+01, -1.29891844e+00,  1.17505699e+01,\n",
       "        -1.64879971e+01, -8.23284003e+00, -6.38115660e+00,\n",
       "        -6.98236233e+00,  1.51382332e+01, -6.04154084e+00,\n",
       "         3.27110272e-01,  1.16166820e+01, -1.67078830e+01],\n",
       "       [-5.01683820e+01,  1.44278420e+01,  2.46728517e+01,\n",
       "         2.67344821e+01, -2.88192795e+01,  3.23435158e+01,\n",
       "        -2.12368652e+01, -3.48886365e+00, -3.11244161e+01,\n",
       "         4.04093820e+00,  9.86661857e+00,  5.99010519e-01,\n",
       "         1.05348478e+01, -9.37949775e+00,  2.02079234e+01],\n",
       "       [ 4.85110692e+01, -1.71054512e+01,  2.94813701e+01,\n",
       "        -1.58803110e+01, -3.18706270e+01, -2.08971485e+01,\n",
       "        -1.51578402e+01,  1.27932651e+01, -1.72759094e+01,\n",
       "        -7.47500446e+00,  1.80619126e+01, -1.16000142e+00,\n",
       "         1.11032228e+01,  1.05906161e+00,  2.65082145e+00],\n",
       "       [-1.84457609e+01,  9.52677197e+00,  1.82068525e+01,\n",
       "         4.58211401e+01,  2.37823716e+00,  1.70831185e+01,\n",
       "         2.89343996e+01,  1.52190399e+01,  8.37378291e+00,\n",
       "        -1.70632489e+01,  6.76270764e+00, -8.45322365e+00,\n",
       "        -1.86148583e+01, -2.05680523e+01, -1.63849499e+01],\n",
       "       [-4.03997370e+00,  5.11855259e+00, -5.20724972e+00,\n",
       "         3.07720624e+01, -1.59113934e+01,  1.82295163e+01,\n",
       "        -3.04806012e+01,  3.89524963e+01,  4.25804338e+01,\n",
       "        -1.96814311e+01, -3.08279507e+01,  1.94679617e+01,\n",
       "        -9.51580744e-03,  1.41169436e+01, -5.20223408e+00],\n",
       "       [-1.80870738e+01,  1.41553772e+01, -8.02334356e+00,\n",
       "         4.50224275e+01, -1.51835757e+01, -1.00779417e+01,\n",
       "         7.27918041e+00, -3.40274368e+01,  2.86615309e+00,\n",
       "         1.31898532e+01, -1.38735178e+01, -2.82870556e+01,\n",
       "         1.30964342e+01,  1.45112394e+01,  8.19838959e+00],\n",
       "       [ 5.43749097e+00, -2.20048940e+01,  1.11914333e+01,\n",
       "        -3.37502230e+01,  3.83100239e+01,  6.20341450e+01,\n",
       "         9.26190990e+00, -1.72979946e+01,  1.31784060e+01,\n",
       "        -1.45270472e+01, -1.91083069e+01, -2.38906406e+01,\n",
       "        -6.65121152e+00,  2.06771147e+01, -1.44609747e+00],\n",
       "       [ 1.45386796e+01, -3.38054475e+01, -2.62560031e+01,\n",
       "        -6.48057816e+00, -1.72429116e+01, -1.25952456e+01,\n",
       "        -4.80341557e+00, -2.69996406e+01, -1.71197969e+01,\n",
       "        -2.31751795e+01, -2.96796795e+01,  3.52336596e+01,\n",
       "        -3.01836291e+01, -1.18428230e+01,  7.44308713e+00],\n",
       "       [-5.56045430e+01, -1.75680670e+01, -4.03767981e+01,\n",
       "        -2.01420487e+01, -3.04091621e+01,  1.13704596e+01,\n",
       "         1.39568182e+00,  3.38921103e+00,  4.89444857e+00,\n",
       "        -3.14871227e+01,  3.47851501e+00, -3.17140739e+01,\n",
       "        -1.16115297e+01, -5.66590249e+00,  2.26086686e+00],\n",
       "       [ 1.15659193e+00, -2.52272729e+01,  1.89036350e+00,\n",
       "        -2.33667179e+01, -1.17022399e+01, -1.12756393e+01,\n",
       "         9.84855794e+00,  1.94156698e+01, -2.72365856e+01,\n",
       "        -2.21071117e+01, -2.78825627e+01, -3.13888849e+01,\n",
       "         2.06265119e+01, -2.05915218e+00, -1.37113963e+01],\n",
       "       [-5.47507305e+01, -6.87732429e+00,  1.71372079e+00,\n",
       "         1.74805724e+01,  3.64453706e+01, -2.82207989e+01,\n",
       "        -2.70426859e+01, -2.77424932e+01,  1.53404623e+01,\n",
       "        -1.80298683e+01,  3.04155124e+01, -3.34950844e+00,\n",
       "        -1.37696363e+00, -1.07671108e+00, -1.32657853e+01],\n",
       "       [-1.04671722e+01, -3.68202959e+01,  3.30812381e+01,\n",
       "        -6.79518329e+00, -2.04728968e+01, -1.64645314e+01,\n",
       "         3.04342403e+01,  5.29377162e+00,  8.10107596e+00,\n",
       "         3.73738648e+01, -7.58755533e+00,  1.70100968e+00,\n",
       "        -3.19058416e+01, -6.20193913e+00, -3.24741535e+00],\n",
       "       [ 2.21898034e+01, -1.88666630e+00, -2.19563057e+01,\n",
       "         3.74108236e+01,  2.07521639e+01,  2.79422482e+01,\n",
       "         1.07156269e+01, -1.44049260e+01, -2.32233615e+01,\n",
       "         3.80963793e+01, -1.68608774e+01,  8.83885352e+00,\n",
       "         1.04733594e+01, -1.72173451e+00, -4.44060570e+00],\n",
       "       [ 2.83477300e+01,  5.10034999e+01,  1.23178368e+01,\n",
       "        -2.85467243e+01,  5.76759651e+01, -2.35262718e+01,\n",
       "         1.34713285e+01,  5.16846448e+00, -9.33150250e+00,\n",
       "        -2.17032328e+01, -1.94403447e+00,  6.00916652e+00,\n",
       "        -1.84570848e+01,  1.17164157e+01,  1.44180840e+01],\n",
       "       [-2.80732036e+01, -3.12800061e+00, -2.35077123e+01,\n",
       "        -1.95813313e+01,  3.01403051e+00,  3.69918396e+01,\n",
       "         2.69960164e+01,  4.48506191e+00, -1.04617560e+01,\n",
       "         3.04837515e+01,  9.31345306e+00,  2.37577920e+01,\n",
       "        -1.65370178e+00,  2.37078344e+01, -1.23936681e+01],\n",
       "       [ 2.84473189e+01,  5.05795275e+01, -1.68875533e+01,\n",
       "        -9.88206547e+00, -4.31298478e+01,  3.11643970e+00,\n",
       "        -5.45932914e+00, -1.18764562e+01,  4.33751798e+01,\n",
       "         4.53367928e+00, -7.04156365e+00,  1.20962371e+01,\n",
       "         5.36911656e-01, -1.10104019e+01,  2.92145207e-01],\n",
       "       [-2.49073031e+01, -5.57108149e-01,  5.75804972e+01,\n",
       "        -3.09555556e+01,  1.36407168e+01, -9.04444892e+00,\n",
       "        -1.44879528e+01, -2.12096953e+01,  1.42665135e+01,\n",
       "         7.40485176e+00, -1.11973561e+01,  9.93981058e+00,\n",
       "        -4.79692281e-01, -9.24399124e+00, -1.21841945e+01],\n",
       "       [-2.66458755e+01,  6.81296364e+01, -7.72320211e+00,\n",
       "        -2.06851707e+01, -2.17890709e+01, -2.59461345e+01,\n",
       "         1.67621004e+01, -3.07204281e+01, -2.96185993e+01,\n",
       "        -7.11997683e+00, -7.09232516e-01,  7.79017374e+00,\n",
       "         1.25586630e+00,  9.87265752e+00, -1.59367619e+01],\n",
       "       [-2.31126883e+01, -3.74268214e+01, -1.70542457e+01,\n",
       "         2.08801793e+01,  2.52813789e+01, -1.87048339e+01,\n",
       "         1.15132984e+00, -2.30854422e+01,  1.40627448e+01,\n",
       "        -1.51018582e+01,  2.82053089e+00,  2.33204340e+01,\n",
       "         2.18041372e+01,  1.12034409e+01,  2.94900214e+01],\n",
       "       [-4.25548521e+01,  2.27346451e+00, -1.54660438e+01,\n",
       "        -3.19871520e+01, -1.42856892e+01, -1.52064476e+01,\n",
       "        -8.73373462e+00,  5.16984890e+01, -1.05808102e+00,\n",
       "         1.29057150e+01,  2.19935702e+01,  1.25259001e+01,\n",
       "         6.32913848e+00,  2.37136329e+01, -3.75502346e-01],\n",
       "       [-2.34377900e+01, -6.22975154e+00,  8.48948754e+00,\n",
       "        -4.04374347e+01,  7.34026951e+00,  1.78107735e+01,\n",
       "        -4.11054883e+01, -1.15617087e+01,  4.36851152e+00,\n",
       "         3.31637569e+01,  1.21237393e+01, -7.36446454e+00,\n",
       "        -7.34640633e+00, -2.12580962e+01,  1.48079618e+01],\n",
       "       [ 6.44131217e+01, -1.45668101e+01, -2.48260817e+01,\n",
       "        -6.16566374e+00,  8.37595868e+00,  2.75470015e+01,\n",
       "        -9.09121662e+00,  6.26350212e+00, -1.17815764e+01,\n",
       "        -9.34671939e+00,  3.58501543e+01, -6.54700142e+00,\n",
       "        -4.57472464e+00, -8.22008490e+00,  1.11706185e+01],\n",
       "       [ 6.45681513e+00,  1.62624911e+01, -3.34923841e+01,\n",
       "        -1.09037588e+01,  3.64782098e+01, -3.45368792e+01,\n",
       "        -1.19617699e+01,  1.91696695e+01,  2.87147376e+00,\n",
       "         2.81453231e+01, -2.98585182e+01, -2.20879631e+01,\n",
       "         1.67655176e+01, -1.94463738e+01, -1.03616902e+00],\n",
       "       [ 1.03705445e+01, -2.43368684e+01, -4.72891921e+01,\n",
       "         3.25861070e+01,  2.16576110e+01, -2.19203941e+01,\n",
       "         8.03951577e+00,  1.07032687e+01, -1.69664034e+00,\n",
       "         6.23932095e+00,  2.57973504e+01,  2.91688105e-02,\n",
       "        -1.25524831e+01, -6.66562521e+00, -2.28649476e+01],\n",
       "       [ 5.04916120e+01,  1.40215163e+01, -1.97122509e+01,\n",
       "         2.81644630e+00, -2.91019010e+01, -1.61116611e+01,\n",
       "         5.15246009e+00, -1.63797979e+01,  2.26741397e+01,\n",
       "         1.55534266e+01,  1.21505980e+01, -2.82885303e+01,\n",
       "        -1.61311069e+01,  1.83974678e+01,  1.51614074e+01]])"
      ]
     },
     "execution_count": 214,
     "metadata": {},
     "output_type": "execute_result"
    }
   ],
   "source": [
    "pca_feature"
   ]
  },
  {
   "cell_type": "code",
   "execution_count": 211,
   "metadata": {},
   "outputs": [
    {
     "data": {
      "text/plain": [
       "(30, 15)"
      ]
     },
     "execution_count": 211,
     "metadata": {},
     "output_type": "execute_result"
    }
   ],
   "source": [
    "graph.shape"
   ]
  },
  {
   "cell_type": "code",
   "execution_count": null,
   "metadata": {},
   "outputs": [],
   "source": []
  }
 ],
 "metadata": {
  "kernelspec": {
   "display_name": "ThinkMatch",
   "language": "python",
   "name": "python3"
  },
  "language_info": {
   "codemirror_mode": {
    "name": "ipython",
    "version": 3
   },
   "file_extension": ".py",
   "mimetype": "text/x-python",
   "name": "python",
   "nbconvert_exporter": "python",
   "pygments_lexer": "ipython3",
   "version": "3.7.13"
  },
  "orig_nbformat": 4
 },
 "nbformat": 4,
 "nbformat_minor": 2
}
